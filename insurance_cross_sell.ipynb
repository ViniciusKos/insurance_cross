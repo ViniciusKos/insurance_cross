{
 "cells": [
  {
   "cell_type": "markdown",
   "id": "79dc9465",
   "metadata": {},
   "source": [
    "# 0.0 IMPORTS"
   ]
  },
  {
   "cell_type": "markdown",
   "id": "a50225ed",
   "metadata": {},
   "source": [
    "## packages"
   ]
  },
  {
   "cell_type": "code",
   "execution_count": 1,
   "id": "3aa9ffad",
   "metadata": {},
   "outputs": [
    {
     "name": "stderr",
     "output_type": "stream",
     "text": [
      "p:\\Anaconda3\\envs\\insurance_cross\\lib\\site-packages\\tqdm\\auto.py:22: TqdmWarning: IProgress not found. Please update jupyter and ipywidgets. See https://ipywidgets.readthedocs.io/en/stable/user_install.html\n",
      "  from .autonotebook import tqdm as notebook_tqdm\n"
     ]
    },
    {
     "data": {
      "text/plain": [
       "'p:\\\\Python\\\\GitHub\\\\insurance_cross'"
      ]
     },
     "execution_count": 1,
     "metadata": {},
     "output_type": "execute_result"
    }
   ],
   "source": [
    "import os, pickle, datetime\n",
    "import pandas as pd\n",
    "import numpy as np\n",
    "import seaborn as sns\n",
    "import xgboost as xgb\n",
    "import matplotlib.pyplot as plt\n",
    "import scipy.stats as ss\n",
    "import sweetviz as sv\n",
    "import matplotlib.gridspec as gridspec\n",
    "from sklearn.model_selection import StratifiedKFold\n",
    "from sklearn.model_selection import RandomizedSearchCV\n",
    "from sklearn.metrics import precision_score,f1_score,recall_score,precision_recall_fscore_support\n",
    "from sklearn.ensemble import RandomForestClassifier\n",
    "from sklearn.feature_selection import SelectKBest, SelectPercentile, f_classif\n",
    "from sklearn.model_selection            import train_test_split\n",
    "from sklearn.preprocessing              import RobustScaler,MinMaxScaler, LabelEncoder, StandardScaler, OrdinalEncoder\n",
    "from sklearn.base                       import BaseEstimator, TransformerMixin\n",
    "from IPython.display                    import Image\n",
    "from sklearn.linear_model               import LinearRegression, Lasso\n",
    "from sklearn.ensemble                   import RandomForestClassifier\n",
    "from boruta                             import BorutaPy\n",
    "from lightgbm import LGBMClassifier\n",
    "from xgboost import XGBClassifier\n",
    "from sklearn.pipeline import Pipeline, make_pipeline\n",
    "\n",
    "pd.options.display.max_columns = 500 # this will set limit of columns to 500\n",
    "pd.set_option('display.float_format', lambda x: '%.5f' % x)\n",
    "\n",
    "%matplotlib inline\n",
    "os.getcwd()"
   ]
  },
  {
   "cell_type": "markdown",
   "id": "ecfb422a",
   "metadata": {},
   "source": [
    "## helper classes"
   ]
  },
  {
   "cell_type": "markdown",
   "id": "0a7ebbf2",
   "metadata": {},
   "source": [
    "## helper funcions "
   ]
  },
  {
   "cell_type": "code",
   "execution_count": null,
   "id": "3dd02e66",
   "metadata": {},
   "outputs": [],
   "source": [
    "def cramer_v( x, y ):\n",
    "    cm = pd.crosstab( x, y ).values\n",
    "    n = cm.sum()\n",
    "    r, k = cm.shape\n",
    "    \n",
    "    chi2 = ss.chi2_contingency( cm )[0]\n",
    "    chi2corr = max( 0, chi2 - (k-1)*(r-1)/(n-1) )\n",
    "    \n",
    "    kcorr = k - (k-1)**2/(n-1)\n",
    "    rcorr = r - (r-1)**2/(n-1)\n",
    "    \n",
    "    return np.sqrt( (chi2corr/n) / ( min( kcorr-1, rcorr-1 ) ) )"
   ]
  },
  {
   "cell_type": "code",
   "execution_count": null,
   "id": "a82e2b6e",
   "metadata": {},
   "outputs": [],
   "source": [
    "def jupyter_settings():\n",
    "    %matplotlib inline\n",
    "    %pylab inline\n",
    "    \n",
    "    plt.style.use( 'bmh' )\n",
    "    plt.rcParams['figure.figsize'] = [30, 16]\n",
    "    plt.rcParams['font.size'] = 24\n",
    "    \n",
    "    #display( HTML( '<style>.container { width:100% !important; }</style>') )\n",
    "    pd.options.display.max_columns = None\n",
    "    pd.options.display.max_rows = None\n",
    "    pd.set_option( 'display.expand_frame_repr', False )\n",
    "\n",
    "    sns.set()\n",
    "\n",
    "jupyter_settings()"
   ]
  },
  {
   "cell_type": "markdown",
   "id": "6da4a762-d275-4d87-9cfd-94ed93a79d4b",
   "metadata": {},
   "source": [
    "## data import"
   ]
  },
  {
   "cell_type": "code",
   "execution_count": 114,
   "id": "69d9b923-88c5-4074-916b-cd46ee08ae89",
   "metadata": {},
   "outputs": [
    {
     "data": {
      "text/html": [
       "<div>\n",
       "<style scoped>\n",
       "    .dataframe tbody tr th:only-of-type {\n",
       "        vertical-align: middle;\n",
       "    }\n",
       "\n",
       "    .dataframe tbody tr th {\n",
       "        vertical-align: top;\n",
       "    }\n",
       "\n",
       "    .dataframe thead th {\n",
       "        text-align: right;\n",
       "    }\n",
       "</style>\n",
       "<table border=\"1\" class=\"dataframe\">\n",
       "  <thead>\n",
       "    <tr style=\"text-align: right;\">\n",
       "      <th></th>\n",
       "      <th>id</th>\n",
       "      <th>Gender</th>\n",
       "      <th>Age</th>\n",
       "      <th>Driving_License</th>\n",
       "      <th>Region_Code</th>\n",
       "      <th>Previously_Insured</th>\n",
       "      <th>Vehicle_Age</th>\n",
       "      <th>Vehicle_Damage</th>\n",
       "      <th>Annual_Premium</th>\n",
       "      <th>Policy_Sales_Channel</th>\n",
       "      <th>Vintage</th>\n",
       "      <th>Response</th>\n",
       "    </tr>\n",
       "  </thead>\n",
       "  <tbody>\n",
       "    <tr>\n",
       "      <th>0</th>\n",
       "      <td>1</td>\n",
       "      <td>Male</td>\n",
       "      <td>44</td>\n",
       "      <td>1</td>\n",
       "      <td>28.00000</td>\n",
       "      <td>0</td>\n",
       "      <td>&gt; 2 Years</td>\n",
       "      <td>Yes</td>\n",
       "      <td>40454.00000</td>\n",
       "      <td>26.00000</td>\n",
       "      <td>217</td>\n",
       "      <td>1</td>\n",
       "    </tr>\n",
       "  </tbody>\n",
       "</table>\n",
       "</div>"
      ],
      "text/plain": [
       "   id Gender  Age  Driving_License  Region_Code  Previously_Insured  \\\n",
       "0   1   Male   44                1     28.00000                   0   \n",
       "\n",
       "  Vehicle_Age Vehicle_Damage  Annual_Premium  Policy_Sales_Channel  Vintage  \\\n",
       "0   > 2 Years            Yes     40454.00000              26.00000      217   \n",
       "\n",
       "   Response  \n",
       "0         1  "
      ]
     },
     "execution_count": 114,
     "metadata": {},
     "output_type": "execute_result"
    }
   ],
   "source": [
    "df0=pd.read_csv(r\"data/train.csv\")\n",
    "test=pd.read_csv(r\"data/test.csv\")\n",
    "df0.head(1)"
   ]
  },
  {
   "cell_type": "markdown",
   "id": "9f962ecf",
   "metadata": {},
   "source": [
    "# split"
   ]
  },
  {
   "cell_type": "code",
   "execution_count": 340,
   "id": "518aa052",
   "metadata": {},
   "outputs": [
    {
     "data": {
      "text/html": [
       "<div>\n",
       "<style scoped>\n",
       "    .dataframe tbody tr th:only-of-type {\n",
       "        vertical-align: middle;\n",
       "    }\n",
       "\n",
       "    .dataframe tbody tr th {\n",
       "        vertical-align: top;\n",
       "    }\n",
       "\n",
       "    .dataframe thead th {\n",
       "        text-align: right;\n",
       "    }\n",
       "</style>\n",
       "<table border=\"1\" class=\"dataframe\">\n",
       "  <thead>\n",
       "    <tr style=\"text-align: right;\">\n",
       "      <th></th>\n",
       "      <th>id</th>\n",
       "      <th>Gender</th>\n",
       "      <th>Age</th>\n",
       "      <th>Driving_License</th>\n",
       "      <th>Region_Code</th>\n",
       "      <th>Previously_Insured</th>\n",
       "      <th>Vehicle_Age</th>\n",
       "      <th>Vehicle_Damage</th>\n",
       "      <th>Annual_Premium</th>\n",
       "      <th>Policy_Sales_Channel</th>\n",
       "      <th>Vintage</th>\n",
       "      <th>Response</th>\n",
       "    </tr>\n",
       "  </thead>\n",
       "  <tbody>\n",
       "    <tr>\n",
       "      <th>215726</th>\n",
       "      <td>215727</td>\n",
       "      <td>Male</td>\n",
       "      <td>49</td>\n",
       "      <td>1</td>\n",
       "      <td>41.00000</td>\n",
       "      <td>0</td>\n",
       "      <td>1-2 Year</td>\n",
       "      <td>Yes</td>\n",
       "      <td>30123.00000</td>\n",
       "      <td>124.00000</td>\n",
       "      <td>109</td>\n",
       "      <td>0</td>\n",
       "    </tr>\n",
       "    <tr>\n",
       "      <th>244933</th>\n",
       "      <td>244934</td>\n",
       "      <td>Female</td>\n",
       "      <td>64</td>\n",
       "      <td>1</td>\n",
       "      <td>8.00000</td>\n",
       "      <td>0</td>\n",
       "      <td>1-2 Year</td>\n",
       "      <td>Yes</td>\n",
       "      <td>40700.00000</td>\n",
       "      <td>124.00000</td>\n",
       "      <td>241</td>\n",
       "      <td>0</td>\n",
       "    </tr>\n",
       "    <tr>\n",
       "      <th>189344</th>\n",
       "      <td>189345</td>\n",
       "      <td>Female</td>\n",
       "      <td>24</td>\n",
       "      <td>1</td>\n",
       "      <td>11.00000</td>\n",
       "      <td>1</td>\n",
       "      <td>&lt; 1 Year</td>\n",
       "      <td>No</td>\n",
       "      <td>2630.00000</td>\n",
       "      <td>152.00000</td>\n",
       "      <td>120</td>\n",
       "      <td>0</td>\n",
       "    </tr>\n",
       "    <tr>\n",
       "      <th>232120</th>\n",
       "      <td>232121</td>\n",
       "      <td>Female</td>\n",
       "      <td>43</td>\n",
       "      <td>1</td>\n",
       "      <td>17.00000</td>\n",
       "      <td>1</td>\n",
       "      <td>1-2 Year</td>\n",
       "      <td>No</td>\n",
       "      <td>2630.00000</td>\n",
       "      <td>152.00000</td>\n",
       "      <td>159</td>\n",
       "      <td>0</td>\n",
       "    </tr>\n",
       "    <tr>\n",
       "      <th>304224</th>\n",
       "      <td>304225</td>\n",
       "      <td>Female</td>\n",
       "      <td>29</td>\n",
       "      <td>1</td>\n",
       "      <td>10.00000</td>\n",
       "      <td>1</td>\n",
       "      <td>&lt; 1 Year</td>\n",
       "      <td>No</td>\n",
       "      <td>2630.00000</td>\n",
       "      <td>152.00000</td>\n",
       "      <td>117</td>\n",
       "      <td>0</td>\n",
       "    </tr>\n",
       "  </tbody>\n",
       "</table>\n",
       "</div>"
      ],
      "text/plain": [
       "            id  Gender  Age  Driving_License  Region_Code  Previously_Insured  \\\n",
       "215726  215727    Male   49                1     41.00000                   0   \n",
       "244933  244934  Female   64                1      8.00000                   0   \n",
       "189344  189345  Female   24                1     11.00000                   1   \n",
       "232120  232121  Female   43                1     17.00000                   1   \n",
       "304224  304225  Female   29                1     10.00000                   1   \n",
       "\n",
       "       Vehicle_Age Vehicle_Damage  Annual_Premium  Policy_Sales_Channel  \\\n",
       "215726    1-2 Year            Yes     30123.00000             124.00000   \n",
       "244933    1-2 Year            Yes     40700.00000             124.00000   \n",
       "189344    < 1 Year             No      2630.00000             152.00000   \n",
       "232120    1-2 Year             No      2630.00000             152.00000   \n",
       "304224    < 1 Year             No      2630.00000             152.00000   \n",
       "\n",
       "        Vintage  Response  \n",
       "215726      109         0  \n",
       "244933      241         0  \n",
       "189344      120         0  \n",
       "232120      159         0  \n",
       "304224      117         0  "
      ]
     },
     "execution_count": 340,
     "metadata": {},
     "output_type": "execute_result"
    }
   ],
   "source": [
    "X=df0.drop('Response',axis=1)\n",
    "y=df0['Response']\n",
    "\n",
    "Xtrain, Xtest0, ytrain, ytest0 = train_test_split(X,y, random_state=42,  test_size=0.40, stratify=y)\n",
    "\n",
    "df0_train=pd.concat([Xtrain,ytrain],axis=1)\n",
    "\n",
    "holdout=pd.concat([Xtest0,ytest0],axis=1)\n",
    "holdout.to_csv(r\"data/holdout.csv\")\n",
    "\n",
    "\n",
    "df0_train.head()"
   ]
  },
  {
   "cell_type": "markdown",
   "id": "7844d33a",
   "metadata": {},
   "source": [
    "# metadata"
   ]
  },
  {
   "cell_type": "code",
   "execution_count": 116,
   "id": "5aacfa38",
   "metadata": {},
   "outputs": [
    {
     "data": {
      "image/png": "[encoded data removed]",
      "text/plain": [
       "<IPython.core.display.Image object>"
      ]
     },
     "execution_count": 116,
     "metadata": {},
     "output_type": "execute_result"
    }
   ],
   "source": [
    "Image('img/metadata.png')"
   ]
  },
  {
   "cell_type": "markdown",
   "id": "9fab2064",
   "metadata": {},
   "source": [
    "# 1.0 DATA DESCRIPTION"
   ]
  },
  {
   "cell_type": "raw",
   "id": "d8bf4e15",
   "metadata": {},
   "source": [
    "## In this section we are going to understand and prepare our data for analysis.\n",
    "### 1) Data cleaning: look for inconscistences and treat it\n",
    "### 2) Check if data types are consise\n",
    "### 3) Use some methods from Descriptive Statistics so we can assess the features distributions"
   ]
  },
  {
   "cell_type": "markdown",
   "id": "27b06c10",
   "metadata": {},
   "source": [
    "## 1.1 rename columns"
   ]
  },
  {
   "cell_type": "raw",
   "id": "3ed8e8a5",
   "metadata": {},
   "source": [
    "class pipe_insurance( object ):\n",
    "    def __init__( self ):\n",
    "        self.home_path='P:\\Python\\GitHub\\insurance_cross'\n",
    "        self.oe = pickle.load( open( self.home_path + r'\\parameters\\oe_vehicle_age_gender_vehicle_damage.pkl', 'rb') )\n",
    "        self.mss = pickle.load( open( self.home_path + r'\\parameters\\age_mms_scaler.pkl', 'rb') )\n",
    "        self.ss = pickle.load( open( self.home_path + r'\\parameters\\annual_premium_robust_scaler.pkl', 'rb') )\n",
    "        self.rs = pickle.load( open( self.home_path + r'\\parameters\\vintage_ss_scaler.pkl', 'rb') )\n"
   ]
  },
  {
   "cell_type": "code",
   "execution_count": 352,
   "id": "86cd2999-7531-4656-9bfd-d2e753d9d0b6",
   "metadata": {},
   "outputs": [
    {
     "data": {
      "text/html": [
       "<div>\n",
       "<style scoped>\n",
       "    .dataframe tbody tr th:only-of-type {\n",
       "        vertical-align: middle;\n",
       "    }\n",
       "\n",
       "    .dataframe tbody tr th {\n",
       "        vertical-align: top;\n",
       "    }\n",
       "\n",
       "    .dataframe thead th {\n",
       "        text-align: right;\n",
       "    }\n",
       "</style>\n",
       "<table border=\"1\" class=\"dataframe\">\n",
       "  <thead>\n",
       "    <tr style=\"text-align: right;\">\n",
       "      <th></th>\n",
       "      <th>id</th>\n",
       "      <th>gender</th>\n",
       "      <th>age</th>\n",
       "      <th>driving_license</th>\n",
       "      <th>region_code</th>\n",
       "      <th>previously_insured</th>\n",
       "      <th>vehicle_age</th>\n",
       "      <th>vehicle_damage</th>\n",
       "      <th>annual_premium</th>\n",
       "      <th>policy_sales_channel</th>\n",
       "      <th>vintage</th>\n",
       "      <th>response</th>\n",
       "    </tr>\n",
       "  </thead>\n",
       "  <tbody>\n",
       "    <tr>\n",
       "      <th>215726</th>\n",
       "      <td>215727</td>\n",
       "      <td>Male</td>\n",
       "      <td>49</td>\n",
       "      <td>1</td>\n",
       "      <td>41.00000</td>\n",
       "      <td>0</td>\n",
       "      <td>1-2 Year</td>\n",
       "      <td>Yes</td>\n",
       "      <td>30123.00000</td>\n",
       "      <td>124.00000</td>\n",
       "      <td>109</td>\n",
       "      <td>0</td>\n",
       "    </tr>\n",
       "  </tbody>\n",
       "</table>\n",
       "</div>"
      ],
      "text/plain": [
       "            id gender  age  driving_license  region_code  previously_insured  \\\n",
       "215726  215727   Male   49                1     41.00000                   0   \n",
       "\n",
       "       vehicle_age vehicle_damage  annual_premium  policy_sales_channel  \\\n",
       "215726    1-2 Year            Yes     30123.00000             124.00000   \n",
       "\n",
       "        vintage  response  \n",
       "215726      109         0  "
      ]
     },
     "execution_count": 352,
     "metadata": {},
     "output_type": "execute_result"
    }
   ],
   "source": [
    "df1=df0_train.copy()\n",
    "df1.columns=df1.columns.str.lower()\n",
    "df1.head(1)"
   ]
  },
  {
   "cell_type": "markdown",
   "id": "65e78829",
   "metadata": {},
   "source": [
    "## 1.2 data dimensions"
   ]
  },
  {
   "cell_type": "code",
   "execution_count": 353,
   "id": "f19b1839",
   "metadata": {},
   "outputs": [
    {
     "data": {
      "text/plain": [
       "(228665, 12)"
      ]
     },
     "execution_count": 353,
     "metadata": {},
     "output_type": "execute_result"
    }
   ],
   "source": [
    "df1.shape"
   ]
  },
  {
   "cell_type": "markdown",
   "id": "0873cc09",
   "metadata": {},
   "source": [
    "## 1.3 data types"
   ]
  },
  {
   "cell_type": "code",
   "execution_count": 354,
   "id": "b74f95e2",
   "metadata": {},
   "outputs": [
    {
     "data": {
      "text/plain": [
       "id                        int64\n",
       "age                       int64\n",
       "driving_license           int64\n",
       "previously_insured        int64\n",
       "vintage                   int64\n",
       "response                  int64\n",
       "region_code             float64\n",
       "annual_premium          float64\n",
       "policy_sales_channel    float64\n",
       "gender                   object\n",
       "vehicle_age              object\n",
       "vehicle_damage           object\n",
       "dtype: object"
      ]
     },
     "execution_count": 354,
     "metadata": {},
     "output_type": "execute_result"
    }
   ],
   "source": [
    "df1.dtypes.sort_values()"
   ]
  },
  {
   "cell_type": "code",
   "execution_count": 355,
   "id": "bab16ceb",
   "metadata": {},
   "outputs": [],
   "source": [
    "#convert categoric features (region_code, policy_sales_channel) to object:\n",
    "for i in ['region_code','policy_sales_channel']:\n",
    "    df1[i]=df1[i].astype('object')"
   ]
  },
  {
   "cell_type": "markdown",
   "id": "549b97fa",
   "metadata": {},
   "source": [
    "## 1.4 check NA"
   ]
  },
  {
   "cell_type": "code",
   "execution_count": 356,
   "id": "cb5397ad",
   "metadata": {},
   "outputs": [
    {
     "data": {
      "text/plain": [
       "id                      0\n",
       "gender                  0\n",
       "age                     0\n",
       "driving_license         0\n",
       "region_code             0\n",
       "previously_insured      0\n",
       "vehicle_age             0\n",
       "vehicle_damage          0\n",
       "annual_premium          0\n",
       "policy_sales_channel    0\n",
       "vintage                 0\n",
       "response                0\n",
       "dtype: int64"
      ]
     },
     "execution_count": 356,
     "metadata": {},
     "output_type": "execute_result"
    }
   ],
   "source": [
    "df1.isna().sum()"
   ]
  },
  {
   "cell_type": "markdown",
   "id": "d0ce4144",
   "metadata": {},
   "source": [
    "## 1.5 fillout NA"
   ]
  },
  {
   "cell_type": "raw",
   "id": "78049c20",
   "metadata": {},
   "source": [
    "There's no NAs to fill it."
   ]
  },
  {
   "cell_type": "markdown",
   "id": "b938740c",
   "metadata": {},
   "source": [
    "## 1.6 descriptive statistics for numeric attributes"
   ]
  },
  {
   "cell_type": "code",
   "execution_count": 357,
   "id": "a7fcfb36",
   "metadata": {},
   "outputs": [
    {
     "data": {
      "text/html": [
       "<div>\n",
       "<style scoped>\n",
       "    .dataframe tbody tr th:only-of-type {\n",
       "        vertical-align: middle;\n",
       "    }\n",
       "\n",
       "    .dataframe tbody tr th {\n",
       "        vertical-align: top;\n",
       "    }\n",
       "\n",
       "    .dataframe thead th {\n",
       "        text-align: right;\n",
       "    }\n",
       "</style>\n",
       "<table border=\"1\" class=\"dataframe\">\n",
       "  <thead>\n",
       "    <tr style=\"text-align: right;\">\n",
       "      <th></th>\n",
       "      <th>mean</th>\n",
       "      <th>median</th>\n",
       "      <th>std</th>\n",
       "      <th>min</th>\n",
       "      <th>max</th>\n",
       "      <th>skew</th>\n",
       "      <th>kurtosis</th>\n",
       "    </tr>\n",
       "  </thead>\n",
       "  <tbody>\n",
       "    <tr>\n",
       "      <th>id</th>\n",
       "      <td>190732.11463</td>\n",
       "      <td>190816.00000</td>\n",
       "      <td>110006.93804</td>\n",
       "      <td>2.00000</td>\n",
       "      <td>381109.00000</td>\n",
       "      <td>-0.00135</td>\n",
       "      <td>-1.19938</td>\n",
       "    </tr>\n",
       "    <tr>\n",
       "      <th>age</th>\n",
       "      <td>38.85382</td>\n",
       "      <td>36.00000</td>\n",
       "      <td>15.51915</td>\n",
       "      <td>20.00000</td>\n",
       "      <td>85.00000</td>\n",
       "      <td>0.66815</td>\n",
       "      <td>-0.57301</td>\n",
       "    </tr>\n",
       "    <tr>\n",
       "      <th>driving_license</th>\n",
       "      <td>0.99782</td>\n",
       "      <td>1.00000</td>\n",
       "      <td>0.04662</td>\n",
       "      <td>0.00000</td>\n",
       "      <td>1.00000</td>\n",
       "      <td>-21.35825</td>\n",
       "      <td>454.17881</td>\n",
       "    </tr>\n",
       "    <tr>\n",
       "      <th>previously_insured</th>\n",
       "      <td>0.45828</td>\n",
       "      <td>0.00000</td>\n",
       "      <td>0.49826</td>\n",
       "      <td>0.00000</td>\n",
       "      <td>1.00000</td>\n",
       "      <td>0.16748</td>\n",
       "      <td>-1.97197</td>\n",
       "    </tr>\n",
       "    <tr>\n",
       "      <th>annual_premium</th>\n",
       "      <td>30594.86624</td>\n",
       "      <td>31705.00000</td>\n",
       "      <td>17194.63877</td>\n",
       "      <td>2630.00000</td>\n",
       "      <td>508073.00000</td>\n",
       "      <td>1.49963</td>\n",
       "      <td>25.58896</td>\n",
       "    </tr>\n",
       "    <tr>\n",
       "      <th>vintage</th>\n",
       "      <td>154.44938</td>\n",
       "      <td>154.00000</td>\n",
       "      <td>83.65082</td>\n",
       "      <td>10.00000</td>\n",
       "      <td>299.00000</td>\n",
       "      <td>0.00234</td>\n",
       "      <td>-1.20027</td>\n",
       "    </tr>\n",
       "    <tr>\n",
       "      <th>response</th>\n",
       "      <td>0.12256</td>\n",
       "      <td>0.00000</td>\n",
       "      <td>0.32794</td>\n",
       "      <td>0.00000</td>\n",
       "      <td>1.00000</td>\n",
       "      <td>2.30191</td>\n",
       "      <td>3.29881</td>\n",
       "    </tr>\n",
       "  </tbody>\n",
       "</table>\n",
       "</div>"
      ],
      "text/plain": [
       "                           mean       median          std        min  \\\n",
       "id                 190732.11463 190816.00000 110006.93804    2.00000   \n",
       "age                    38.85382     36.00000     15.51915   20.00000   \n",
       "driving_license         0.99782      1.00000      0.04662    0.00000   \n",
       "previously_insured      0.45828      0.00000      0.49826    0.00000   \n",
       "annual_premium      30594.86624  31705.00000  17194.63877 2630.00000   \n",
       "vintage               154.44938    154.00000     83.65082   10.00000   \n",
       "response                0.12256      0.00000      0.32794    0.00000   \n",
       "\n",
       "                            max      skew  kurtosis  \n",
       "id                 381109.00000  -0.00135  -1.19938  \n",
       "age                    85.00000   0.66815  -0.57301  \n",
       "driving_license         1.00000 -21.35825 454.17881  \n",
       "previously_insured      1.00000   0.16748  -1.97197  \n",
       "annual_premium     508073.00000   1.49963  25.58896  \n",
       "vintage               299.00000   0.00234  -1.20027  \n",
       "response                1.00000   2.30191   3.29881  "
      ]
     },
     "execution_count": 357,
     "metadata": {},
     "output_type": "execute_result"
    }
   ],
   "source": [
    "num_cols=df1.select_dtypes(include=['int64','float64'])\n",
    "num_cols.agg([\"mean\",\"median\",\"std\",\"min\",\"max\",\"skew\",\"kurtosis\"]).T"
   ]
  },
  {
   "cell_type": "markdown",
   "id": "1a561103",
   "metadata": {},
   "source": [
    "# 2.0 FEATURE ENGINEERING"
   ]
  },
  {
   "cell_type": "raw",
   "id": "fb1e3fcc",
   "metadata": {},
   "source": [
    "The objective in this section is to prepare the dataset with variables that could best fit the machine learning model and explain the sales behavior."
   ]
  },
  {
   "cell_type": "markdown",
   "id": "1a851822",
   "metadata": {},
   "source": [
    "## 2.1 hypotesis mapping"
   ]
  },
  {
   "cell_type": "code",
   "execution_count": 358,
   "id": "ed23facb",
   "metadata": {},
   "outputs": [],
   "source": [
    "df2=df1.copy()"
   ]
  },
  {
   "cell_type": "raw",
   "id": "d3e6a35a",
   "metadata": {},
   "source": [
    "In this section we will list some hypothesis that can be tested using this data, these hypothesis generally comes from brainstorming \n",
    "with business areas and are very important to drive our analyses.\n",
    "If they are not enough to explain the stores sales we would search for more data and formulate new hypotheses."
   ]
  },
  {
   "cell_type": "code",
   "execution_count": 359,
   "id": "d9eb8b1c",
   "metadata": {},
   "outputs": [
    {
     "data": {
      "image/png": "[encoded data removed]",
      "text/plain": [
       "<IPython.core.display.Image object>"
      ]
     },
     "execution_count": 359,
     "metadata": {},
     "output_type": "execute_result"
    }
   ],
   "source": [
    "Image('img/mindmap.png')"
   ]
  },
  {
   "cell_type": "markdown",
   "id": "61939e54",
   "metadata": {},
   "source": [
    "## 2.2 hypoteses list"
   ]
  },
  {
   "cell_type": "raw",
   "id": "38deb8c9",
   "metadata": {},
   "source": [
    "From the previous mind map, we can separe our hypothesis by factors (like Customer, Products etc...) and their attributes (Gender , Product Price, etc...)\n",
    "\n",
    "There are some hypotesis judged to be most relevant and could drive our Exploratory Data Analysis. They are listed below.\n",
    "\n",
    "\n",
    "--Customer hypoteses\n",
    "H1. Customers with HIGH ASSOCIATE TIME with the company buys MORE vehicle insurance.\n",
    "H2. Customers previously insured buys MORE vehicle insurance.\n",
    "H3. Customers with driver licence buys MORE vehicle insurance.\n",
    "H4. OLDERS customers buys MORE vehicle insurance.\n",
    "H5. There's a difference in propensity to purchase between customers GENDERS.\n",
    "H6. There's a difference in propensity to purchase between region CODE\n",
    "\n",
    "--Vehicle hypoteses\n",
    "H7. Customers with HIGH vehicle insurance price should buys LESS vehicle insurance.\n",
    "H8. UNDERAGED vehicles are MORE likely to be insured by customers.\n",
    "H9. DAMAGED vehicles are MORE likely to be insured by customers.\n",
    "\n",
    "--Other hypoteses\n",
    "H10. There is different insurance buy propensity according to outreach channel. \n"
   ]
  },
  {
   "cell_type": "markdown",
   "id": "6dc97704",
   "metadata": {},
   "source": [
    "## 2.3 feature creation"
   ]
  },
  {
   "cell_type": "raw",
   "id": "8cefdd00",
   "metadata": {},
   "source": [
    "For now, there's no feature to create in order to test the hypoteses in 2.2."
   ]
  },
  {
   "cell_type": "markdown",
   "id": "0d9994f5",
   "metadata": {},
   "source": [
    "## 2.4 rename object values: vehicle age"
   ]
  },
  {
   "cell_type": "code",
   "execution_count": 360,
   "id": "c4b08c39",
   "metadata": {},
   "outputs": [
    {
     "data": {
      "text/plain": [
       "array(['1-2 Year', '< 1 Year', '> 2 Years'], dtype=object)"
      ]
     },
     "execution_count": 360,
     "metadata": {},
     "output_type": "execute_result"
    }
   ],
   "source": [
    "df2['vehicle_age'].unique()"
   ]
  },
  {
   "cell_type": "code",
   "execution_count": 361,
   "id": "e1f8e99a",
   "metadata": {},
   "outputs": [],
   "source": [
    "class FeatureEngineering(BaseEstimator, TransformerMixin):\n",
    "    def __init__(self):\n",
    "        pass\n",
    "    def fit(self, X,y=None):\n",
    "        return self\n",
    "    def transform(self, X, y=None):\n",
    "        X2=X.copy()\n",
    "        X2.columns=X2.columns.str.lower()\n",
    "        X2['vehicle_age']=X2['vehicle_age'].map({'> 2 Years':'2. 2_more_years','1-2 Year':'1. 1_2_years', '< 1 Year': '0. 1_less_years'})\n",
    "        return X2"
   ]
  },
  {
   "cell_type": "code",
   "execution_count": 362,
   "id": "5a370c2b",
   "metadata": {},
   "outputs": [
    {
     "data": {
      "text/html": [
       "<div>\n",
       "<style scoped>\n",
       "    .dataframe tbody tr th:only-of-type {\n",
       "        vertical-align: middle;\n",
       "    }\n",
       "\n",
       "    .dataframe tbody tr th {\n",
       "        vertical-align: top;\n",
       "    }\n",
       "\n",
       "    .dataframe thead th {\n",
       "        text-align: right;\n",
       "    }\n",
       "</style>\n",
       "<table border=\"1\" class=\"dataframe\">\n",
       "  <thead>\n",
       "    <tr style=\"text-align: right;\">\n",
       "      <th></th>\n",
       "      <th>id</th>\n",
       "      <th>gender</th>\n",
       "      <th>age</th>\n",
       "      <th>driving_license</th>\n",
       "      <th>region_code</th>\n",
       "      <th>previously_insured</th>\n",
       "      <th>vehicle_age</th>\n",
       "      <th>vehicle_damage</th>\n",
       "      <th>annual_premium</th>\n",
       "      <th>policy_sales_channel</th>\n",
       "      <th>vintage</th>\n",
       "      <th>response</th>\n",
       "    </tr>\n",
       "  </thead>\n",
       "  <tbody>\n",
       "    <tr>\n",
       "      <th>215726</th>\n",
       "      <td>215727</td>\n",
       "      <td>Male</td>\n",
       "      <td>49</td>\n",
       "      <td>1</td>\n",
       "      <td>41.00000</td>\n",
       "      <td>0</td>\n",
       "      <td>1. 1_2_years</td>\n",
       "      <td>Yes</td>\n",
       "      <td>30123.00000</td>\n",
       "      <td>124.00000</td>\n",
       "      <td>109</td>\n",
       "      <td>0</td>\n",
       "    </tr>\n",
       "    <tr>\n",
       "      <th>244933</th>\n",
       "      <td>244934</td>\n",
       "      <td>Female</td>\n",
       "      <td>64</td>\n",
       "      <td>1</td>\n",
       "      <td>8.00000</td>\n",
       "      <td>0</td>\n",
       "      <td>1. 1_2_years</td>\n",
       "      <td>Yes</td>\n",
       "      <td>40700.00000</td>\n",
       "      <td>124.00000</td>\n",
       "      <td>241</td>\n",
       "      <td>0</td>\n",
       "    </tr>\n",
       "    <tr>\n",
       "      <th>189344</th>\n",
       "      <td>189345</td>\n",
       "      <td>Female</td>\n",
       "      <td>24</td>\n",
       "      <td>1</td>\n",
       "      <td>11.00000</td>\n",
       "      <td>1</td>\n",
       "      <td>0. 1_less_years</td>\n",
       "      <td>No</td>\n",
       "      <td>2630.00000</td>\n",
       "      <td>152.00000</td>\n",
       "      <td>120</td>\n",
       "      <td>0</td>\n",
       "    </tr>\n",
       "    <tr>\n",
       "      <th>232120</th>\n",
       "      <td>232121</td>\n",
       "      <td>Female</td>\n",
       "      <td>43</td>\n",
       "      <td>1</td>\n",
       "      <td>17.00000</td>\n",
       "      <td>1</td>\n",
       "      <td>1. 1_2_years</td>\n",
       "      <td>No</td>\n",
       "      <td>2630.00000</td>\n",
       "      <td>152.00000</td>\n",
       "      <td>159</td>\n",
       "      <td>0</td>\n",
       "    </tr>\n",
       "    <tr>\n",
       "      <th>304224</th>\n",
       "      <td>304225</td>\n",
       "      <td>Female</td>\n",
       "      <td>29</td>\n",
       "      <td>1</td>\n",
       "      <td>10.00000</td>\n",
       "      <td>1</td>\n",
       "      <td>0. 1_less_years</td>\n",
       "      <td>No</td>\n",
       "      <td>2630.00000</td>\n",
       "      <td>152.00000</td>\n",
       "      <td>117</td>\n",
       "      <td>0</td>\n",
       "    </tr>\n",
       "  </tbody>\n",
       "</table>\n",
       "</div>"
      ],
      "text/plain": [
       "            id  gender  age  driving_license region_code  previously_insured  \\\n",
       "215726  215727    Male   49                1    41.00000                   0   \n",
       "244933  244934  Female   64                1     8.00000                   0   \n",
       "189344  189345  Female   24                1    11.00000                   1   \n",
       "232120  232121  Female   43                1    17.00000                   1   \n",
       "304224  304225  Female   29                1    10.00000                   1   \n",
       "\n",
       "            vehicle_age vehicle_damage  annual_premium policy_sales_channel  \\\n",
       "215726     1. 1_2_years            Yes     30123.00000            124.00000   \n",
       "244933     1. 1_2_years            Yes     40700.00000            124.00000   \n",
       "189344  0. 1_less_years             No      2630.00000            152.00000   \n",
       "232120     1. 1_2_years             No      2630.00000            152.00000   \n",
       "304224  0. 1_less_years             No      2630.00000            152.00000   \n",
       "\n",
       "        vintage  response  \n",
       "215726      109         0  \n",
       "244933      241         0  \n",
       "189344      120         0  \n",
       "232120      159         0  \n",
       "304224      117         0  "
      ]
     },
     "execution_count": 362,
     "metadata": {},
     "output_type": "execute_result"
    }
   ],
   "source": [
    "fe=FeatureEngineering().fit(df2)\n",
    "df2=FeatureEngineering().transform(df2)\n",
    "df2.head()"
   ]
  },
  {
   "cell_type": "code",
   "execution_count": 282,
   "id": "e4ee36df",
   "metadata": {},
   "outputs": [],
   "source": [
    "pickle.dump(FeatureEngineering(),open(\"parameters/feature_engineering.pkl\",\"wb\"))"
   ]
  },
  {
   "cell_type": "markdown",
   "id": "a2d60b9f",
   "metadata": {},
   "source": [
    "# 3.0 FEATURE FILTERING"
   ]
  },
  {
   "cell_type": "raw",
   "id": "77da6f3f",
   "metadata": {},
   "source": [
    "# In this section we must drop all features which would not me available in production."
   ]
  },
  {
   "cell_type": "code",
   "execution_count": null,
   "metadata": {},
   "outputs": [],
   "source": [
    "df3=df2.copy()"
   ]
  },
  {
   "cell_type": "markdown",
   "id": "4e431355",
   "metadata": {},
   "source": [
    "## 3.1 row filtering"
   ]
  },
  {
   "cell_type": "raw",
   "id": "6bc7e579",
   "metadata": {},
   "source": [
    "# there's no row to drop in order to prevent data leakage."
   ]
  },
  {
   "cell_type": "markdown",
   "id": "f34d9888",
   "metadata": {},
   "source": [
    "## 3.2 cols filtering"
   ]
  },
  {
   "cell_type": "raw",
   "metadata": {},
   "source": [
    "# there's no column to drop in order to prevent data leakage."
   ]
  },
  {
   "cell_type": "markdown",
   "id": "5d6d583a",
   "metadata": {},
   "source": [
    "# 4.0 EXPLORATORY DATA ANALYSIS"
   ]
  },
  {
   "cell_type": "code",
   "execution_count": 137,
   "id": "262ee044",
   "metadata": {},
   "outputs": [],
   "source": [
    "df4=df3.copy()"
   ]
  },
  {
   "cell_type": "markdown",
   "id": "f3cbdbc1",
   "metadata": {},
   "source": [
    "## 4.1 univariate analysis"
   ]
  },
  {
   "cell_type": "code",
   "execution_count": null,
   "id": "5c5e435d",
   "metadata": {},
   "outputs": [],
   "source": [
    "my_report = sv.analyze(df2,target_feat='response')\n",
    "my_report.show_html(\"descritive analysis.html\")\n",
    "my_report.show_notebook()"
   ]
  },
  {
   "cell_type": "raw",
   "id": "50f709f8",
   "metadata": {},
   "source": [
    "--Conclusions\n",
    "\n",
    "\n",
    "-Target\n",
    "IMBALANCED CLASSES - There's  about 12% of positive class (Insurance bought)\n",
    "\n",
    "-Age\n",
    "- YOUNGER CUSTOMERS - AGE distribution is right skewed with more younger customers.\n",
    "\n",
    "\n",
    "-Driving Licence\n",
    "\n",
    "ALMOST ALL customers has driving license\n",
    "\n",
    "-Region\n",
    "There's a lot of customers in a specific region\n",
    "\n",
    "-Previously_insured\n",
    "LESS PREVISOULSY_INSURED customers - There's less previously_insured clients than who wasn't\n",
    "\n",
    "-Annual_premium\n",
    "LESSER ANNUAL PREMIUM - Annual premium distribution is right skewed with less annual premium insurances.\n",
    "\n",
    "-policy_sales_channel\n",
    "HIGH CONCENTRATION - There's a lot of sales offers concentred in 152 channel.\n",
    "\n",
    "-vintage\n",
    "UNIFORM DISTRIBUTION - There's no concentration in a specific association time with the company.\n",
    "\n",
    "-vehicle damage\n",
    "ALMOST BALANCED - 50% Previosuly damaged vehicle\n",
    "\n",
    "-Gender\n",
    "ALMOS BALANCED -54% Men"
   ]
  },
  {
   "cell_type": "raw",
   "id": "760a82d1",
   "metadata": {},
   "source": [
    "##categoric"
   ]
  },
  {
   "cell_type": "code",
   "execution_count": null,
   "id": "aada7572",
   "metadata": {},
   "outputs": [],
   "source": [
    "df4.select_dtypes(include='object').columns"
   ]
  },
  {
   "cell_type": "code",
   "execution_count": null,
   "id": "6784abda",
   "metadata": {},
   "outputs": [],
   "source": [
    "for i in df4.select_dtypes(include='object').columns:\n",
    "    sns.countplot(y=df4[i])\n",
    "    plt.show()\n",
    "    fig = plt.gcf()\n",
    "    fig.set_size_inches(10, 8)"
   ]
  },
  {
   "cell_type": "raw",
   "id": "d336b5b7",
   "metadata": {},
   "source": [
    "--Conclusions:\n",
    "-Gender: In our data there's slightly more man than woman.\n",
    "-Vehicle age: There's few older vehicles (2>Years) than the newest ones.\n",
    "-Vehicle damage: There's almost the same proportion between damaged vehicles and those that have not been.\n",
    "-policy_sales_channel: There's a lot of registers in \"152\" channel.\n"
   ]
  },
  {
   "cell_type": "raw",
   "id": "a110a9d8",
   "metadata": {},
   "source": [
    "for i in df4.select_dtypes(include='object').columns:\n",
    "\n",
    "\n",
    "    aux = df4.groupby(i)['response'].value_counts(normalize=True)\n",
    "    aux = aux.mul(100)\n",
    "    aux = aux.rename('percent').reset_index()\n",
    "\n",
    "    g = sns.catplot(x=i,y='percent',hue='response',kind='bar',data=aux)\n",
    "    g.ax.set_ylim(0,100)\n",
    "\n",
    "    for p in g.ax.patches:\n",
    "        txt = str(p.get_height().round(2)) + '%'\n",
    "        txt_x = p.get_x() \n",
    "        txt_y = p.get_height()\n",
    "        g.ax.text(txt_x,txt_y,txt)\n",
    "\n",
    "    #fig = plt.gcf()\n",
    "    #fig.set_size_inches(22.5, 12.5)"
   ]
  },
  {
   "cell_type": "markdown",
   "id": "690253e1",
   "metadata": {},
   "source": [
    "## 4.2 bivariate analysis and hypoteses testing"
   ]
  },
  {
   "cell_type": "markdown",
   "id": "af8967fc",
   "metadata": {},
   "source": [
    "### H1. Customers with HIGH ASSOCIATE TIME with the company buys MORE vehicle insurance.\n",
    "### **FALSE** There's no relationship between Associate Time and propensity buting vehicle insurance."
   ]
  },
  {
   "cell_type": "code",
   "execution_count": null,
   "id": "978cc44f",
   "metadata": {},
   "outputs": [],
   "source": [
    "aux1 = df4[['vintage', 'response']].groupby( 'vintage' ).mean().reset_index()\n",
    "\n",
    "plt.subplot( 1, 3, 1 )\n",
    "sns.scatterplot( x ='vintage', y='response', data=aux1 );\n",
    "\n",
    "plt.subplot( 1, 3, 2 )\n",
    "aux1['vintage_binned']=pd.qcut(df4['vintage'],10)\n",
    "aux2 = aux1[['vintage_binned', 'response']].groupby( 'vintage_binned' ).mean().reset_index()\n",
    "sns.barplot( x='vintage_binned', y='response', data=aux2 );\n",
    "plt.xticks( rotation=90 );\n",
    "\n",
    "plt.subplot( 1, 3, 3 )\n",
    "x = sns.heatmap( aux1.corr( method='pearson' ), annot=True );\n",
    "bottom, top = x.get_ylim()\n",
    "x.set_ylim( bottom+0.5, top-0.5 );\n",
    "\n",
    "fig = plt.gcf()\n",
    "fig.set_size_inches(20.5, 12.5)"
   ]
  },
  {
   "cell_type": "markdown",
   "id": "af8967fc",
   "metadata": {},
   "source": [
    "### H2. Previously insured customers buys MORE vehicle insurance.\n",
    "### **FALSE** Previously insured customers buys LESS vehicle insurance."
   ]
  },
  {
   "cell_type": "code",
   "execution_count": null,
   "metadata": {},
   "outputs": [],
   "source": [
    "sns.set(rc={'figure.figsize':(10,8)})\n",
    "\n",
    "\n",
    "aux = df4.groupby('previously_insured')['response'].value_counts(normalize=True)\n",
    "aux = aux.mul(100)\n",
    "aux = aux.rename('percent').reset_index()\n",
    "\n",
    "g = sns.catplot(x='previously_insured',y='percent',hue='response',kind='bar',data=aux)\n",
    "g.ax.set_ylim(0,100)\n",
    "\n",
    "for p in g.ax.patches:\n",
    "    txt = str(p.get_height().round(2)) + '%'\n",
    "    txt_x = p.get_x() \n",
    "    txt_y = p.get_height()\n",
    "    g.ax.text(txt_x,txt_y,txt)\n"
   ]
  },
  {
   "cell_type": "markdown",
   "id": "9342f07a",
   "metadata": {},
   "source": [
    "### H3. Customers with driver licence buys MORE vehicle insurance.\n",
    "### **TRUE** Customers with driver licence buys MORE vehicle insurance."
   ]
  },
  {
   "cell_type": "code",
   "execution_count": null,
   "id": "b444030b",
   "metadata": {},
   "outputs": [],
   "source": [
    "sns.set(rc={'figure.figsize':(10,8)})\n",
    "\n",
    "\n",
    "aux = df4.groupby('driving_license')['response'].value_counts(normalize=True)\n",
    "aux = aux.mul(100)\n",
    "aux = aux.rename('percent').reset_index()\n",
    "\n",
    "g = sns.catplot(x='driving_license',y='percent',hue='response',kind='bar',data=aux)\n",
    "g.ax.set_ylim(0,100)\n",
    "\n",
    "for p in g.ax.patches:\n",
    "    txt = str(p.get_height().round(2)) + '%'\n",
    "    txt_x = p.get_x() \n",
    "    txt_y = p.get_height()\n",
    "    g.ax.text(txt_x,txt_y,txt)"
   ]
  },
  {
   "cell_type": "markdown",
   "id": "16438dde",
   "metadata": {},
   "source": [
    "### **H4.** OLDERS customers buys MORE vehicle insurance.\n",
    "### **FALSE** OLDERS customers buys LESS vehicle insurance, but the youngest customers either."
   ]
  },
  {
   "cell_type": "code",
   "execution_count": null,
   "id": "15402873",
   "metadata": {},
   "outputs": [],
   "source": [
    "aux1 = df4[['age', 'response']].groupby( 'age' ).mean().reset_index()\n",
    "\n",
    "plt.subplot( 1, 3, 1 )\n",
    "sns.scatterplot( x ='age', y='response', data=aux1 );\n",
    "\n",
    "plt.subplot( 1, 3, 2 )\n",
    "aux1['age_binned']=pd.qcut(df4['age'],10)\n",
    "aux2 = aux1[['age_binned', 'response']].groupby( 'age_binned' ).mean().reset_index()\n",
    "sns.barplot( x='age_binned', y='response', data=aux2 );\n",
    "plt.xticks( rotation=90 );\n",
    "\n",
    "plt.subplot( 1, 3, 3 )\n",
    "x = sns.heatmap( aux1.corr( method='pearson' ), annot=True );\n",
    "bottom, top = x.get_ylim()\n",
    "x.set_ylim( bottom+0.5, top-0.5 );\n",
    "\n",
    "fig = plt.gcf()\n",
    "fig.set_size_inches(20.5, 12.5)"
   ]
  },
  {
   "cell_type": "markdown",
   "id": "46842d49",
   "metadata": {},
   "source": [
    "### **H5.** There's a difference in propensity to purchase between customers GENDERS.\n",
    "### **True** MALE customers are slighly more likely to buy vehicle insurance."
   ]
  },
  {
   "cell_type": "code",
   "execution_count": null,
   "id": "fdf5b547",
   "metadata": {},
   "outputs": [],
   "source": [
    "aux = df4.groupby('gender')['response'].value_counts(normalize=True)\n",
    "aux = aux.mul(100)\n",
    "aux = aux.rename('percent').reset_index()\n",
    "\n",
    "g = sns.catplot(x='gender',y='percent',hue='response',kind='bar',data=aux)\n",
    "g.ax.set_ylim(0,100)\n",
    "\n",
    "for p in g.ax.patches:\n",
    "    txt = str(p.get_height().round(2)) + '%'\n",
    "    txt_x = p.get_x() \n",
    "    txt_y = p.get_height()\n",
    "    g.ax.text(txt_x,txt_y,txt)\n",
    "    fig = plt.gcf()\n",
    "    fig.set_size_inches(27.5, 12.5)"
   ]
  },
  {
   "cell_type": "markdown",
   "id": "b841b8f4",
   "metadata": {},
   "source": [
    "### H6. There's a DIFFERENCE in propensity to purchase between REGION CODE\n",
    "### True. There's regions with more propense purchase customers."
   ]
  },
  {
   "cell_type": "code",
   "execution_count": null,
   "id": "8e62f1dd",
   "metadata": {},
   "outputs": [],
   "source": [
    "aux1 = df4[['region_code', 'response']].groupby( 'region_code' ).mean().reset_index().sort_values('response')\n",
    "aux1['region_code']=aux1['region_code'].astype(str)\n",
    "\n",
    "sns.barplot( x='region_code', y='response' ,data=aux1);"
   ]
  },
  {
   "cell_type": "markdown",
   "id": "fb61df29",
   "metadata": {},
   "source": [
    "### H7. Customers with HIGH vehicle insurance price should buys LESS vehicle insurance.\n",
    "### FALSE the HIGHEST insurance prices is MORE BOUGHT by customers."
   ]
  },
  {
   "cell_type": "code",
   "execution_count": null,
   "id": "9c59651d",
   "metadata": {},
   "outputs": [],
   "source": [
    "aux1=df4.copy()\n",
    "aux1['annual_premium_q']=pd.qcut(aux1['annual_premium'],4)\n",
    "aux1=aux1.groupby(['annual_premium_q']).agg({'response':'mean'}).reset_index()\n",
    "g=sns.catplot(x='annual_premium_q',y='response',data=aux1,kind='bar')\n",
    "for p in g.ax.patches:\n",
    "    txt = str(p.get_height().round(2)) + '%'\n",
    "    txt_x = p.get_x() \n",
    "    txt_y = p.get_height()\n",
    "    g.ax.text(txt_x,txt_y,txt)\n",
    "    fig = plt.gcf()\n",
    "    fig.set_size_inches(27.5, 12.5)"
   ]
  },
  {
   "cell_type": "markdown",
   "id": "e19d3ede",
   "metadata": {},
   "source": [
    "### H8. UNDERAGED vehicles are MORE likely to be insured by customers.\n",
    "###  **TRUE** UNDERAGED vehicles are MORE likely to be insured by customers."
   ]
  },
  {
   "cell_type": "code",
   "execution_count": null,
   "id": "bff1e402",
   "metadata": {},
   "outputs": [],
   "source": [
    "aux1 = df4[['vehicle_age', 'response']].groupby( 'vehicle_age' ).mean().reset_index().sort_values('response')\n",
    "aux1['vehicle_age']=aux1['vehicle_age'].astype(str)\n",
    "print(df4['vehicle_age'].value_counts())\n",
    "g=sns.catplot(x='vehicle_age',y='response',data=aux1,kind='bar')\n",
    "for p in g.ax.patches:\n",
    "    txt = str(p.get_height().round(2)) + '%'\n",
    "    txt_x = p.get_x() \n",
    "    txt_y = p.get_height()\n",
    "    g.ax.text(txt_x,txt_y,txt)\n",
    "    fig = plt.gcf()\n",
    "    fig.set_size_inches(27.5, 12.5)"
   ]
  },
  {
   "cell_type": "code",
   "execution_count": null,
   "id": "6dc5236f",
   "metadata": {},
   "outputs": [],
   "source": [
    "### H9. DAMAGED vehicles are MORE likely to be insured by customers.\n",
    "\n",
    "###  **True** DAMAGED vehicles are VERY MORE LIKELY to be insured by customers."
   ]
  },
  {
   "cell_type": "code",
   "execution_count": null,
   "id": "6a434031",
   "metadata": {},
   "outputs": [],
   "source": [
    "aux1 = df4.groupby( 'vehicle_damage').agg(response_count=('response','count'),\n",
    "                                                response_mean=('response','mean')).reset_index().sort_values('vehicle_damage')\n",
    "\n",
    "fig = plt.figure(figsize=(20,10))\n",
    "specs=gridspec.GridSpec(ncols=2, nrows=1, figure=fig)\n",
    "\n",
    "ax1= fig.add_subplot(specs[0,0])\n",
    "ax2= fig.add_subplot(specs[0,1])\n",
    "\n",
    "g=sns.barplot(x='vehicle_damage',y='response_mean',data=aux1,ax=ax1)\n",
    "sns.barplot(x='vehicle_damage',y='response_count',data=aux1,ax=ax2)\n"
   ]
  },
  {
   "cell_type": "markdown",
   "id": "273c7fdf",
   "metadata": {},
   "source": [
    "### H9. There is different insurance buy propensity according to policy sales channel. \n",
    "\n",
    "###  **True** there is a considerable difference in buy propensity depending to policy sales channel, however there is a big imbalance between the channels."
   ]
  },
  {
   "cell_type": "code",
   "execution_count": null,
   "id": "d7000115",
   "metadata": {},
   "outputs": [],
   "source": [
    "aux1 = df4.groupby( 'policy_sales_channel' ).agg(response_count=('response','count'),\n",
    "                                                response_mean=('response','mean')).reset_index().sort_values('policy_sales_channel')\n",
    "\n",
    "fig = plt.figure(figsize=(20,10))\n",
    "specs=gridspec.GridSpec(ncols=2, nrows=1, figure=fig)\n",
    "\n",
    "ax1= fig.add_subplot(specs[0,0])\n",
    "ax2= fig.add_subplot(specs[0,1])\n",
    "\n",
    "g=sns.barplot(y='policy_sales_channel',x='response_mean',data=aux1,ax=ax1)\n",
    "g=sns.barplot(x='policy_sales_channel',y='response_count',data=aux1,ax=ax2)\n"
   ]
  },
  {
   "cell_type": "markdown",
   "id": "33bad896",
   "metadata": {},
   "source": [
    "## hypoteses summary"
   ]
  },
  {
   "cell_type": "code",
   "execution_count": null,
   "id": "0de9f379",
   "metadata": {},
   "outputs": [],
   "source": [
    "hyp={\n",
    "\"Customers with HIGH ASSOCIATE TIME with the company buys MORE vehicle insurance.\":False,\n",
    "\"Customers previously insured buys MORE vehicle insurance.\":False,\n",
    "\"Customers with driver licence buys MORE vehicle insurance.\":True,\n",
    "\"OLDERS customers buys MORE vehicle insurance.\":False,\n",
    "\"There's a difference in propensity to purchase between customers GENDERS.\":True,\n",
    "\"There's a difference in propensity to purchase between region CODE\":True,\n",
    "\"Customers with HIGH vehicle insurance price should buys LESS vehicle insurance.\":False,\n",
    "\"UNDERAGED vehicles are MORE likely to be insured by customers.\":True,\n",
    "\"There is different insurance buy propensity according to Policy Sales Channel.\":True,\n",
    "}\n",
    "summary=pd.DataFrame.from_dict(hyp,orient='index').reset_index().rename(columns={'index':'hypotesis',0:'Conclusion'})\n",
    "summary"
   ]
  },
  {
   "cell_type": "markdown",
   "id": "188fc550",
   "metadata": {},
   "source": [
    "## 4.3 multivariate analysis"
   ]
  },
  {
   "cell_type": "raw",
   "id": "889a8f6e",
   "metadata": {},
   "source": [
    "#numerical attributes"
   ]
  },
  {
   "cell_type": "code",
   "execution_count": null,
   "id": "5264c225",
   "metadata": {},
   "outputs": [],
   "source": [
    "corrs= df2.select_dtypes(include=['float64','int64']).corr(method='pearson')\n",
    "matrix = np.triu(corrs)\n",
    "sns.heatmap(corrs,annot=True,mask=matrix)\n",
    "plt.gcf().set_size_inches(22,16)"
   ]
  },
  {
   "cell_type": "raw",
   "id": "e4664664",
   "metadata": {},
   "source": [
    "The matrix above shows us the followeing:\n",
    "1) previously insured customers tends to me younger (previously insured vs age) and \n",
    "2) previously insured custoemrs buts less insurance (response vs previously_insured)."
   ]
  },
  {
   "cell_type": "code",
   "execution_count": null,
   "id": "95f0d999",
   "metadata": {},
   "outputs": [],
   "source": [
    "# Calculate cramer V\n",
    "a1 = cramer_v( df2['gender'], df2['gender'] )\n",
    "a2 = cramer_v( df2['gender'], df2['vehicle_age'] )\n",
    "a3 = cramer_v( df2['gender'], df2['vehicle_damage'] )\n",
    "\n",
    "a4 = cramer_v( df2['vehicle_age'], df2['gender'] )\n",
    "a5 = cramer_v( df2['vehicle_age'], df2['vehicle_age'] )\n",
    "a6 = cramer_v( df2['vehicle_age'], df2['vehicle_damage'] )\n",
    "\n",
    "a7 = cramer_v( df2['vehicle_damage'], df2['gender'] )\n",
    "a8 = cramer_v( df2['vehicle_damage'], df2['vehicle_age'] )\n",
    "a9 = cramer_v( df2['vehicle_damage'], df2['vehicle_damage'] )\n",
    "\n",
    "# Final dataset\n",
    "d = pd.DataFrame( {'gender': [a1, a2, a3], \n",
    "               'vehicle_age': [a4, a5, a6],\n",
    "               'vehicle_damage': [a7, a8, a9]  })\n",
    "d = d.set_index( d.columns )\n",
    "\n",
    "\n",
    "\n",
    "sns.heatmap( d, annot=True)\n",
    "plt.gcf().set_size_inches(18,16)"
   ]
  },
  {
   "cell_type": "raw",
   "id": "9bc9fe00",
   "metadata": {},
   "source": [
    "Conclusions:\n",
    "1) vehicle_age is associated with vehicle_damage\n",
    "2) gender is associated with vehicle age"
   ]
  },
  {
   "cell_type": "markdown",
   "id": "f8a57224",
   "metadata": {},
   "source": [
    "# 5.0 DATA PREPARATION"
   ]
  },
  {
   "cell_type": "raw",
   "id": "2b306764",
   "metadata": {},
   "source": [
    "In this section the objective is to prepare the data for modelling applying transformations like normalization and scalling."
   ]
  },
  {
   "cell_type": "code",
   "execution_count": 302,
   "id": "fe6170a5",
   "metadata": {},
   "outputs": [],
   "source": [
    "df5=df4.copy()\n",
    "\n",
    "#make directory to save the serialized transformers\n",
    "os.makedirs(\"parameters\",exist_ok=True)"
   ]
  },
  {
   "cell_type": "raw",
   "id": "d543da44",
   "metadata": {},
   "source": [
    "pickle.dump(df5,open(f'df5.pkl','wb'))"
   ]
  },
  {
   "cell_type": "code",
   "execution_count": 321,
   "id": "b772a85a",
   "metadata": {},
   "outputs": [
    {
     "data": {
      "text/html": [
       "<div>\n",
       "<style scoped>\n",
       "    .dataframe tbody tr th:only-of-type {\n",
       "        vertical-align: middle;\n",
       "    }\n",
       "\n",
       "    .dataframe tbody tr th {\n",
       "        vertical-align: top;\n",
       "    }\n",
       "\n",
       "    .dataframe thead th {\n",
       "        text-align: right;\n",
       "    }\n",
       "</style>\n",
       "<table border=\"1\" class=\"dataframe\">\n",
       "  <thead>\n",
       "    <tr style=\"text-align: right;\">\n",
       "      <th></th>\n",
       "      <th>id</th>\n",
       "      <th>gender</th>\n",
       "      <th>age</th>\n",
       "      <th>driving_license</th>\n",
       "      <th>region_code</th>\n",
       "      <th>previously_insured</th>\n",
       "      <th>vehicle_age</th>\n",
       "      <th>vehicle_damage</th>\n",
       "      <th>annual_premium</th>\n",
       "      <th>policy_sales_channel</th>\n",
       "      <th>vintage</th>\n",
       "      <th>response</th>\n",
       "    </tr>\n",
       "  </thead>\n",
       "  <tbody>\n",
       "    <tr>\n",
       "      <th>215726</th>\n",
       "      <td>215727</td>\n",
       "      <td>Male</td>\n",
       "      <td>49</td>\n",
       "      <td>1</td>\n",
       "      <td>41.00000</td>\n",
       "      <td>0</td>\n",
       "      <td>1. 1_2_years</td>\n",
       "      <td>Yes</td>\n",
       "      <td>30123.00000</td>\n",
       "      <td>124.00000</td>\n",
       "      <td>109</td>\n",
       "      <td>0</td>\n",
       "    </tr>\n",
       "    <tr>\n",
       "      <th>244933</th>\n",
       "      <td>244934</td>\n",
       "      <td>Female</td>\n",
       "      <td>64</td>\n",
       "      <td>1</td>\n",
       "      <td>8.00000</td>\n",
       "      <td>0</td>\n",
       "      <td>1. 1_2_years</td>\n",
       "      <td>Yes</td>\n",
       "      <td>40700.00000</td>\n",
       "      <td>124.00000</td>\n",
       "      <td>241</td>\n",
       "      <td>0</td>\n",
       "    </tr>\n",
       "  </tbody>\n",
       "</table>\n",
       "</div>"
      ],
      "text/plain": [
       "            id  gender  age  driving_license region_code  previously_insured  \\\n",
       "215726  215727    Male   49                1    41.00000                   0   \n",
       "244933  244934  Female   64                1     8.00000                   0   \n",
       "\n",
       "         vehicle_age vehicle_damage  annual_premium policy_sales_channel  \\\n",
       "215726  1. 1_2_years            Yes     30123.00000            124.00000   \n",
       "244933  1. 1_2_years            Yes     40700.00000            124.00000   \n",
       "\n",
       "        vintage  response  \n",
       "215726      109         0  \n",
       "244933      241         0  "
      ]
     },
     "execution_count": 321,
     "metadata": {},
     "output_type": "execute_result"
    }
   ],
   "source": [
    "df5=pickle.load(open(\"df5.pkl\",'rb'))\n",
    "df5.head(2)"
   ]
  },
  {
   "cell_type": "markdown",
   "id": "5a42f057",
   "metadata": {},
   "source": [
    "## 5.1 Encoding"
   ]
  },
  {
   "cell_type": "code",
   "execution_count": 322,
   "id": "0cc638ae",
   "metadata": {},
   "outputs": [
    {
     "data": {
      "text/plain": [
       "gender                    2\n",
       "region_code              53\n",
       "vehicle_age               3\n",
       "vehicle_damage            2\n",
       "policy_sales_channel    150\n",
       "dtype: int64"
      ]
     },
     "execution_count": 322,
     "metadata": {},
     "output_type": "execute_result"
    }
   ],
   "source": [
    "obj=df5.select_dtypes(include='object').columns\n",
    "df5[obj].nunique()"
   ]
  },
  {
   "cell_type": "code",
   "execution_count": 323,
   "id": "c8f0e4cb",
   "metadata": {},
   "outputs": [
    {
     "data": {
      "text/html": [
       "<div>\n",
       "<style scoped>\n",
       "    .dataframe tbody tr th:only-of-type {\n",
       "        vertical-align: middle;\n",
       "    }\n",
       "\n",
       "    .dataframe tbody tr th {\n",
       "        vertical-align: top;\n",
       "    }\n",
       "\n",
       "    .dataframe thead th {\n",
       "        text-align: right;\n",
       "    }\n",
       "</style>\n",
       "<table border=\"1\" class=\"dataframe\">\n",
       "  <thead>\n",
       "    <tr style=\"text-align: right;\">\n",
       "      <th></th>\n",
       "      <th>id</th>\n",
       "      <th>gender</th>\n",
       "      <th>age</th>\n",
       "      <th>driving_license</th>\n",
       "      <th>region_code</th>\n",
       "      <th>previously_insured</th>\n",
       "      <th>vehicle_age</th>\n",
       "      <th>vehicle_damage</th>\n",
       "      <th>annual_premium</th>\n",
       "      <th>policy_sales_channel</th>\n",
       "      <th>vintage</th>\n",
       "      <th>response</th>\n",
       "    </tr>\n",
       "  </thead>\n",
       "  <tbody>\n",
       "    <tr>\n",
       "      <th>215726</th>\n",
       "      <td>215727</td>\n",
       "      <td>1.00000</td>\n",
       "      <td>49</td>\n",
       "      <td>1</td>\n",
       "      <td>41.00000</td>\n",
       "      <td>0</td>\n",
       "      <td>1.00000</td>\n",
       "      <td>1.00000</td>\n",
       "      <td>30123.00000</td>\n",
       "      <td>124.00000</td>\n",
       "      <td>109</td>\n",
       "      <td>0</td>\n",
       "    </tr>\n",
       "    <tr>\n",
       "      <th>244933</th>\n",
       "      <td>244934</td>\n",
       "      <td>0.00000</td>\n",
       "      <td>64</td>\n",
       "      <td>1</td>\n",
       "      <td>8.00000</td>\n",
       "      <td>0</td>\n",
       "      <td>1.00000</td>\n",
       "      <td>1.00000</td>\n",
       "      <td>40700.00000</td>\n",
       "      <td>124.00000</td>\n",
       "      <td>241</td>\n",
       "      <td>0</td>\n",
       "    </tr>\n",
       "    <tr>\n",
       "      <th>189344</th>\n",
       "      <td>189345</td>\n",
       "      <td>0.00000</td>\n",
       "      <td>24</td>\n",
       "      <td>1</td>\n",
       "      <td>11.00000</td>\n",
       "      <td>1</td>\n",
       "      <td>0.00000</td>\n",
       "      <td>0.00000</td>\n",
       "      <td>2630.00000</td>\n",
       "      <td>152.00000</td>\n",
       "      <td>120</td>\n",
       "      <td>0</td>\n",
       "    </tr>\n",
       "    <tr>\n",
       "      <th>232120</th>\n",
       "      <td>232121</td>\n",
       "      <td>0.00000</td>\n",
       "      <td>43</td>\n",
       "      <td>1</td>\n",
       "      <td>17.00000</td>\n",
       "      <td>1</td>\n",
       "      <td>1.00000</td>\n",
       "      <td>0.00000</td>\n",
       "      <td>2630.00000</td>\n",
       "      <td>152.00000</td>\n",
       "      <td>159</td>\n",
       "      <td>0</td>\n",
       "    </tr>\n",
       "    <tr>\n",
       "      <th>304224</th>\n",
       "      <td>304225</td>\n",
       "      <td>0.00000</td>\n",
       "      <td>29</td>\n",
       "      <td>1</td>\n",
       "      <td>10.00000</td>\n",
       "      <td>1</td>\n",
       "      <td>0.00000</td>\n",
       "      <td>0.00000</td>\n",
       "      <td>2630.00000</td>\n",
       "      <td>152.00000</td>\n",
       "      <td>117</td>\n",
       "      <td>0</td>\n",
       "    </tr>\n",
       "  </tbody>\n",
       "</table>\n",
       "</div>"
      ],
      "text/plain": [
       "            id  gender  age  driving_license region_code  previously_insured  \\\n",
       "215726  215727 1.00000   49                1    41.00000                   0   \n",
       "244933  244934 0.00000   64                1     8.00000                   0   \n",
       "189344  189345 0.00000   24                1    11.00000                   1   \n",
       "232120  232121 0.00000   43                1    17.00000                   1   \n",
       "304224  304225 0.00000   29                1    10.00000                   1   \n",
       "\n",
       "        vehicle_age  vehicle_damage  annual_premium policy_sales_channel  \\\n",
       "215726      1.00000         1.00000     30123.00000            124.00000   \n",
       "244933      1.00000         1.00000     40700.00000            124.00000   \n",
       "189344      0.00000         0.00000      2630.00000            152.00000   \n",
       "232120      1.00000         0.00000      2630.00000            152.00000   \n",
       "304224      0.00000         0.00000      2630.00000            152.00000   \n",
       "\n",
       "        vintage  response  \n",
       "215726      109         0  \n",
       "244933      241         0  \n",
       "189344      120         0  \n",
       "232120      159         0  \n",
       "304224      117         0  "
      ]
     },
     "execution_count": 323,
     "metadata": {},
     "output_type": "execute_result"
    }
   ],
   "source": [
    "#Ordinal Encoding\n",
    "oe=OrdinalEncoder()\n",
    "df5[['vehicle_age','gender','vehicle_damage']]=oe.fit_transform(df5[['vehicle_age','gender','vehicle_damage']])\n",
    "#pickle.dump(oe,open(\"parameters/oe_vehicle_age_gender_vehicle_damage.pkl\",\"wb\"))\n",
    "df5.head()"
   ]
  },
  {
   "cell_type": "markdown",
   "id": "0fbb7da3",
   "metadata": {},
   "source": [
    "## 5.2 Target encoding with additive smoothing"
   ]
  },
  {
   "cell_type": "code",
   "execution_count": 324,
   "id": "96fe601d",
   "metadata": {},
   "outputs": [],
   "source": [
    "class BayesianEncoding(BaseEstimator, TransformerMixin):\n",
    "    def __init__(self):\n",
    "        pass\n",
    "    def fit(self, X,y=None):\n",
    "        self.dic={}\n",
    "        X2=pd.concat([X,y],axis=1)\n",
    "        for i in X.columns:\n",
    "            self.dic[i]=X2.groupby(i)['response'].mean()/X2['response'].mean()\n",
    "        return self\n",
    "    def transform(self, X, y=None):\n",
    "        X2=X.copy()\n",
    "        for i in self.dic.keys():\n",
    "            X2[f'{i}']=X2[i].map(self.dic[i])\n",
    "        return X2"
   ]
  },
  {
   "cell_type": "code",
   "execution_count": 325,
   "id": "9856c2b4",
   "metadata": {},
   "outputs": [
    {
     "data": {
      "text/html": [
       "<div>\n",
       "<style scoped>\n",
       "    .dataframe tbody tr th:only-of-type {\n",
       "        vertical-align: middle;\n",
       "    }\n",
       "\n",
       "    .dataframe tbody tr th {\n",
       "        vertical-align: top;\n",
       "    }\n",
       "\n",
       "    .dataframe thead th {\n",
       "        text-align: right;\n",
       "    }\n",
       "</style>\n",
       "<table border=\"1\" class=\"dataframe\">\n",
       "  <thead>\n",
       "    <tr style=\"text-align: right;\">\n",
       "      <th></th>\n",
       "      <th>id</th>\n",
       "      <th>gender</th>\n",
       "      <th>age</th>\n",
       "      <th>driving_license</th>\n",
       "      <th>region_code</th>\n",
       "      <th>previously_insured</th>\n",
       "      <th>vehicle_age</th>\n",
       "      <th>vehicle_damage</th>\n",
       "      <th>annual_premium</th>\n",
       "      <th>policy_sales_channel</th>\n",
       "      <th>vintage</th>\n",
       "      <th>response</th>\n",
       "    </tr>\n",
       "  </thead>\n",
       "  <tbody>\n",
       "    <tr>\n",
       "      <th>215726</th>\n",
       "      <td>215727</td>\n",
       "      <td>1.00000</td>\n",
       "      <td>49</td>\n",
       "      <td>1</td>\n",
       "      <td>1.00710</td>\n",
       "      <td>0</td>\n",
       "      <td>1.00000</td>\n",
       "      <td>1.00000</td>\n",
       "      <td>30123.00000</td>\n",
       "      <td>1.53489</td>\n",
       "      <td>109</td>\n",
       "      <td>0</td>\n",
       "    </tr>\n",
       "    <tr>\n",
       "      <th>244933</th>\n",
       "      <td>244934</td>\n",
       "      <td>0.00000</td>\n",
       "      <td>64</td>\n",
       "      <td>1</td>\n",
       "      <td>0.78537</td>\n",
       "      <td>0</td>\n",
       "      <td>1.00000</td>\n",
       "      <td>1.00000</td>\n",
       "      <td>40700.00000</td>\n",
       "      <td>1.53489</td>\n",
       "      <td>241</td>\n",
       "      <td>0</td>\n",
       "    </tr>\n",
       "    <tr>\n",
       "      <th>189344</th>\n",
       "      <td>189345</td>\n",
       "      <td>0.00000</td>\n",
       "      <td>24</td>\n",
       "      <td>1</td>\n",
       "      <td>0.94647</td>\n",
       "      <td>1</td>\n",
       "      <td>0.00000</td>\n",
       "      <td>0.00000</td>\n",
       "      <td>2630.00000</td>\n",
       "      <td>0.23764</td>\n",
       "      <td>120</td>\n",
       "      <td>0</td>\n",
       "    </tr>\n",
       "    <tr>\n",
       "      <th>232120</th>\n",
       "      <td>232121</td>\n",
       "      <td>0.00000</td>\n",
       "      <td>43</td>\n",
       "      <td>1</td>\n",
       "      <td>0.59086</td>\n",
       "      <td>1</td>\n",
       "      <td>1.00000</td>\n",
       "      <td>0.00000</td>\n",
       "      <td>2630.00000</td>\n",
       "      <td>0.23764</td>\n",
       "      <td>159</td>\n",
       "      <td>0</td>\n",
       "    </tr>\n",
       "    <tr>\n",
       "      <th>304224</th>\n",
       "      <td>304225</td>\n",
       "      <td>0.00000</td>\n",
       "      <td>29</td>\n",
       "      <td>1</td>\n",
       "      <td>0.44775</td>\n",
       "      <td>1</td>\n",
       "      <td>0.00000</td>\n",
       "      <td>0.00000</td>\n",
       "      <td>2630.00000</td>\n",
       "      <td>0.23764</td>\n",
       "      <td>117</td>\n",
       "      <td>0</td>\n",
       "    </tr>\n",
       "  </tbody>\n",
       "</table>\n",
       "</div>"
      ],
      "text/plain": [
       "            id  gender  age  driving_license  region_code  previously_insured  \\\n",
       "215726  215727 1.00000   49                1      1.00710                   0   \n",
       "244933  244934 0.00000   64                1      0.78537                   0   \n",
       "189344  189345 0.00000   24                1      0.94647                   1   \n",
       "232120  232121 0.00000   43                1      0.59086                   1   \n",
       "304224  304225 0.00000   29                1      0.44775                   1   \n",
       "\n",
       "        vehicle_age  vehicle_damage  annual_premium  policy_sales_channel  \\\n",
       "215726      1.00000         1.00000     30123.00000               1.53489   \n",
       "244933      1.00000         1.00000     40700.00000               1.53489   \n",
       "189344      0.00000         0.00000      2630.00000               0.23764   \n",
       "232120      1.00000         0.00000      2630.00000               0.23764   \n",
       "304224      0.00000         0.00000      2630.00000               0.23764   \n",
       "\n",
       "        vintage  response  \n",
       "215726      109         0  \n",
       "244933      241         0  \n",
       "189344      120         0  \n",
       "232120      159         0  \n",
       "304224      117         0  "
      ]
     },
     "execution_count": 325,
     "metadata": {},
     "output_type": "execute_result"
    }
   ],
   "source": [
    "bs=BayesianEncoding()\n",
    "df5[['policy_sales_channel','region_code']]=bs.fit_transform(df5[['policy_sales_channel','region_code']],y=df5['response'])\n",
    "pickle.dump( bs, open( f'parameters/bayesian_encoder.pkl', 'wb') )\n",
    "df5.head()"
   ]
  },
  {
   "cell_type": "raw",
   "id": "b8c1cf3f",
   "metadata": {},
   "source": [
    "Let's plot some feature distribution to helps we choose the best scaler according to distribution."
   ]
  },
  {
   "cell_type": "code",
   "execution_count": 326,
   "id": "9fd4b2d3",
   "metadata": {},
   "outputs": [
    {
     "data": {
      "image/png": "[encoded data removed]",
      "text/plain": [
       "<Figure size 2160x360 with 12 Axes>"
      ]
     },
     "metadata": {
      "needs_background": "light"
     },
     "output_type": "display_data"
    }
   ],
   "source": [
    "fig = plt.figure(figsize=(30,5))\n",
    "specs=gridspec.GridSpec(nrows=1, ncols=13, figure=fig)\n",
    "\n",
    "for n,i in enumerate(df5.select_dtypes(exclude='object').columns):\n",
    "    ax1= fig.add_subplot(specs[0,n])\n",
    "    sns.histplot(df5[i],ax=ax1)"
   ]
  },
  {
   "cell_type": "markdown",
   "id": "8f53f0ce",
   "metadata": {},
   "source": [
    "## 5.4 Rescaling"
   ]
  },
  {
   "cell_type": "raw",
   "id": "5ed4c454",
   "metadata": {},
   "source": [
    "Feature age has an upper and lower boundaries well know. (Hardly you'll find someone with 150 years old or someone with -3 years old). \n",
    "Therefore MinMaxScaler will be used on it."
   ]
  },
  {
   "cell_type": "code",
   "execution_count": 386,
   "id": "e33d9c5a",
   "metadata": {},
   "outputs": [],
   "source": [
    "class DataPreparation(TransformerMixin,BaseEstimator):\n",
    "    def __init__(self):\n",
    "        self.cols_robust=['annual_premium','policy_sales_channel']\n",
    "        self.cols_minmax=['region_code','age']\n",
    "        self.cols_standard=['vintage']\n",
    "        pass \n",
    "\n",
    "    def fit(self, X,y=None):\n",
    "        rs = RobustScaler()\n",
    "        rs.fit( X[self.cols_robust].values )\n",
    "        pickle.dump( rs, open( f'parameters/{rs.__class__.__name__}.pkl', 'wb') )\n",
    "\n",
    "        mms=MinMaxScaler()\n",
    "        mms.fit( X[self.cols_minmax].values )\n",
    "        pickle.dump( mms, open( f'parameters/{mms.__class__.__name__}.pkl', 'wb') )\n",
    "\n",
    "        ss=StandardScaler()\n",
    "        ss.fit( X[self.cols_standard].values )\n",
    "        pickle.dump( ss, open( f'parameters/{ss.__class__.__name__}.pkl', 'wb') )\n",
    "\n",
    "        return self\n",
    "\n",
    "    def transform(self, X, y=None):\n",
    "\n",
    "        X2=X.copy()\n",
    "        rs=pickle.load(open(f\"parameters/RobustScaler.pkl\",'rb'))\n",
    "        mms=pickle.load(open(f\"parameters/MinMaxScaler.pkl\",'rb'))\n",
    "        ss=pickle.load(open(f\"parameters/StandardScaler.pkl\",'rb'))\n",
    "\n",
    "        X2[self.cols_robust]=rs.transform(X2[self.cols_robust])\n",
    "        X2[self.cols_minmax]=mms.transform(X2[self.cols_minmax])\n",
    "        X2[self.cols_standard]=ss.transform(X2[self.cols_standard])\n",
    "\n",
    "\n",
    "        return X2"
   ]
  },
  {
   "cell_type": "code",
   "execution_count": 387,
   "id": "630f5a67",
   "metadata": {},
   "outputs": [
    {
     "name": "stderr",
     "output_type": "stream",
     "text": [
      "p:\\Anaconda3\\envs\\insurance_cross\\lib\\site-packages\\sklearn\\base.py:443: UserWarning: X has feature names, but RobustScaler was fitted without feature names\n",
      "  warnings.warn(\n",
      "p:\\Anaconda3\\envs\\insurance_cross\\lib\\site-packages\\sklearn\\base.py:443: UserWarning: X has feature names, but MinMaxScaler was fitted without feature names\n",
      "  warnings.warn(\n",
      "p:\\Anaconda3\\envs\\insurance_cross\\lib\\site-packages\\sklearn\\base.py:443: UserWarning: X has feature names, but StandardScaler was fitted without feature names\n",
      "  warnings.warn(\n"
     ]
    },
    {
     "data": {
      "text/html": [
       "<div>\n",
       "<style scoped>\n",
       "    .dataframe tbody tr th:only-of-type {\n",
       "        vertical-align: middle;\n",
       "    }\n",
       "\n",
       "    .dataframe tbody tr th {\n",
       "        vertical-align: top;\n",
       "    }\n",
       "\n",
       "    .dataframe thead th {\n",
       "        text-align: right;\n",
       "    }\n",
       "</style>\n",
       "<table border=\"1\" class=\"dataframe\">\n",
       "  <thead>\n",
       "    <tr style=\"text-align: right;\">\n",
       "      <th></th>\n",
       "      <th>id</th>\n",
       "      <th>gender</th>\n",
       "      <th>age</th>\n",
       "      <th>driving_license</th>\n",
       "      <th>region_code</th>\n",
       "      <th>previously_insured</th>\n",
       "      <th>vehicle_age</th>\n",
       "      <th>vehicle_damage</th>\n",
       "      <th>annual_premium</th>\n",
       "      <th>policy_sales_channel</th>\n",
       "      <th>vintage</th>\n",
       "      <th>response</th>\n",
       "    </tr>\n",
       "  </thead>\n",
       "  <tbody>\n",
       "    <tr>\n",
       "      <th>215726</th>\n",
       "      <td>215727</td>\n",
       "      <td>1.00000</td>\n",
       "      <td>0.44615</td>\n",
       "      <td>1</td>\n",
       "      <td>0.55221</td>\n",
       "      <td>0</td>\n",
       "      <td>1.00000</td>\n",
       "      <td>1.00000</td>\n",
       "      <td>-0.10504</td>\n",
       "      <td>0.08630</td>\n",
       "      <td>-0.54332</td>\n",
       "      <td>0</td>\n",
       "    </tr>\n",
       "    <tr>\n",
       "      <th>244933</th>\n",
       "      <td>244934</td>\n",
       "      <td>0.00000</td>\n",
       "      <td>0.67692</td>\n",
       "      <td>1</td>\n",
       "      <td>0.36014</td>\n",
       "      <td>0</td>\n",
       "      <td>1.00000</td>\n",
       "      <td>1.00000</td>\n",
       "      <td>0.59724</td>\n",
       "      <td>0.08630</td>\n",
       "      <td>1.03467</td>\n",
       "      <td>0</td>\n",
       "    </tr>\n",
       "    <tr>\n",
       "      <th>189344</th>\n",
       "      <td>189345</td>\n",
       "      <td>0.00000</td>\n",
       "      <td>0.06154</td>\n",
       "      <td>1</td>\n",
       "      <td>0.49969</td>\n",
       "      <td>1</td>\n",
       "      <td>0.00000</td>\n",
       "      <td>0.00000</td>\n",
       "      <td>-1.93048</td>\n",
       "      <td>-0.84876</td>\n",
       "      <td>-0.41182</td>\n",
       "      <td>0</td>\n",
       "    </tr>\n",
       "    <tr>\n",
       "      <th>232120</th>\n",
       "      <td>232121</td>\n",
       "      <td>0.00000</td>\n",
       "      <td>0.35385</td>\n",
       "      <td>1</td>\n",
       "      <td>0.19166</td>\n",
       "      <td>1</td>\n",
       "      <td>1.00000</td>\n",
       "      <td>0.00000</td>\n",
       "      <td>-1.93048</td>\n",
       "      <td>-0.84876</td>\n",
       "      <td>0.05440</td>\n",
       "      <td>0</td>\n",
       "    </tr>\n",
       "    <tr>\n",
       "      <th>304224</th>\n",
       "      <td>304225</td>\n",
       "      <td>0.00000</td>\n",
       "      <td>0.13846</td>\n",
       "      <td>1</td>\n",
       "      <td>0.06770</td>\n",
       "      <td>1</td>\n",
       "      <td>0.00000</td>\n",
       "      <td>0.00000</td>\n",
       "      <td>-1.93048</td>\n",
       "      <td>-0.84876</td>\n",
       "      <td>-0.44769</td>\n",
       "      <td>0</td>\n",
       "    </tr>\n",
       "  </tbody>\n",
       "</table>\n",
       "</div>"
      ],
      "text/plain": [
       "            id  gender     age  driving_license  region_code  \\\n",
       "215726  215727 1.00000 0.44615                1      0.55221   \n",
       "244933  244934 0.00000 0.67692                1      0.36014   \n",
       "189344  189345 0.00000 0.06154                1      0.49969   \n",
       "232120  232121 0.00000 0.35385                1      0.19166   \n",
       "304224  304225 0.00000 0.13846                1      0.06770   \n",
       "\n",
       "        previously_insured  vehicle_age  vehicle_damage  annual_premium  \\\n",
       "215726                   0      1.00000         1.00000        -0.10504   \n",
       "244933                   0      1.00000         1.00000         0.59724   \n",
       "189344                   1      0.00000         0.00000        -1.93048   \n",
       "232120                   1      1.00000         0.00000        -1.93048   \n",
       "304224                   1      0.00000         0.00000        -1.93048   \n",
       "\n",
       "        policy_sales_channel  vintage  response  \n",
       "215726               0.08630 -0.54332         0  \n",
       "244933               0.08630  1.03467         0  \n",
       "189344              -0.84876 -0.41182         0  \n",
       "232120              -0.84876  0.05440         0  \n",
       "304224              -0.84876 -0.44769         0  "
      ]
     },
     "execution_count": 387,
     "metadata": {},
     "output_type": "execute_result"
    }
   ],
   "source": [
    "df6=df5.copy()\n",
    "prep=DataPreparation()\n",
    "df6=prep.fit_transform(df6)\n",
    "df6.head()"
   ]
  },
  {
   "cell_type": "code",
   "execution_count": 9,
   "id": "1c56254a",
   "metadata": {},
   "outputs": [
    {
     "data": {
      "image/png": "[encoded data removed]",
      "text/plain": [
       "<Figure size 2160x360 with 12 Axes>"
      ]
     },
     "metadata": {
      "needs_background": "light"
     },
     "output_type": "display_data"
    }
   ],
   "source": [
    "fig = plt.figure(figsize=(30,5))\n",
    "specs=gridspec.GridSpec(nrows=1, ncols=13, figure=fig)\n",
    "\n",
    "for n,i in enumerate(df5.select_dtypes(exclude='object').columns):\n",
    "    ax1= fig.add_subplot(specs[0,n])\n",
    "    sns.histplot(df5[i],ax=ax1)"
   ]
  },
  {
   "cell_type": "markdown",
   "id": "46b18822",
   "metadata": {},
   "source": [
    "##  5.5 target variable transformation"
   ]
  },
  {
   "cell_type": "code",
   "execution_count": 10,
   "id": "65c314c0",
   "metadata": {},
   "outputs": [],
   "source": [
    "#There's no need to rescale binary target variable"
   ]
  },
  {
   "cell_type": "markdown",
   "id": "0439932f",
   "metadata": {},
   "source": [
    "# 6.0 FEATURE SELECTION"
   ]
  },
  {
   "cell_type": "raw",
   "id": "478e8751",
   "metadata": {},
   "source": [
    "## In this section the objective is to select the features which helps most the model to describe the sales phenomenon."
   ]
  },
  {
   "cell_type": "code",
   "execution_count": 376,
   "id": "68f1f1da",
   "metadata": {},
   "outputs": [
    {
     "data": {
      "text/html": [
       "<div>\n",
       "<style scoped>\n",
       "    .dataframe tbody tr th:only-of-type {\n",
       "        vertical-align: middle;\n",
       "    }\n",
       "\n",
       "    .dataframe tbody tr th {\n",
       "        vertical-align: top;\n",
       "    }\n",
       "\n",
       "    .dataframe thead th {\n",
       "        text-align: right;\n",
       "    }\n",
       "</style>\n",
       "<table border=\"1\" class=\"dataframe\">\n",
       "  <thead>\n",
       "    <tr style=\"text-align: right;\">\n",
       "      <th></th>\n",
       "      <th>gender</th>\n",
       "      <th>age</th>\n",
       "      <th>driving_license</th>\n",
       "      <th>region_code</th>\n",
       "      <th>previously_insured</th>\n",
       "      <th>vehicle_age</th>\n",
       "      <th>vehicle_damage</th>\n",
       "      <th>annual_premium</th>\n",
       "      <th>policy_sales_channel</th>\n",
       "      <th>vintage</th>\n",
       "    </tr>\n",
       "  </thead>\n",
       "  <tbody>\n",
       "    <tr>\n",
       "      <th>0</th>\n",
       "      <td>1.00000</td>\n",
       "      <td>49</td>\n",
       "      <td>1</td>\n",
       "      <td>1.00710</td>\n",
       "      <td>0</td>\n",
       "      <td>1.00000</td>\n",
       "      <td>1.00000</td>\n",
       "      <td>30123.00000</td>\n",
       "      <td>1.53489</td>\n",
       "      <td>109</td>\n",
       "    </tr>\n",
       "    <tr>\n",
       "      <th>1</th>\n",
       "      <td>0.00000</td>\n",
       "      <td>64</td>\n",
       "      <td>1</td>\n",
       "      <td>0.78537</td>\n",
       "      <td>0</td>\n",
       "      <td>1.00000</td>\n",
       "      <td>1.00000</td>\n",
       "      <td>40700.00000</td>\n",
       "      <td>1.53489</td>\n",
       "      <td>241</td>\n",
       "    </tr>\n",
       "  </tbody>\n",
       "</table>\n",
       "</div>"
      ],
      "text/plain": [
       "   gender  age  driving_license  region_code  previously_insured  vehicle_age  \\\n",
       "0 1.00000   49                1      1.00710                   0      1.00000   \n",
       "1 0.00000   64                1      0.78537                   0      1.00000   \n",
       "\n",
       "   vehicle_damage  annual_premium  policy_sales_channel  vintage  \n",
       "0         1.00000     30123.00000               1.53489      109  \n",
       "1         1.00000     40700.00000               1.53489      241  "
      ]
     },
     "execution_count": 376,
     "metadata": {},
     "output_type": "execute_result"
    }
   ],
   "source": [
    "df6=df5.copy()\n",
    "df6=df6.reset_index(drop=True)\n",
    "ytrain=df6['response']\n",
    "Xtrain=df6.drop(['response','id'],axis=1)\n",
    "Xtrain.head(2)"
   ]
  },
  {
   "cell_type": "markdown",
   "id": "d6a6762b",
   "metadata": {},
   "source": [
    "## 6.1 select K-Best"
   ]
  },
  {
   "cell_type": "code",
   "execution_count": 377,
   "id": "699dd057",
   "metadata": {},
   "outputs": [
    {
     "name": "stdout",
     "output_type": "stream",
     "text": [
      "k = 3 Precision = 0.0\n",
      "k = 4 Precision = 0.5263157894736842\n",
      "k = 5 Precision = 0.2992957746478873\n",
      "k = 6 Precision = 0.33414239482200647\n",
      "k = 7 Precision = 0.33541666666666664\n",
      "k = 8 Precision = 0.33115060804490176\n",
      "k = 9 Precision = 0.32933709449929477\n"
     ]
    }
   ],
   "source": [
    "Xtrain0, Xval, ytrain0, yval = train_test_split(Xtrain,ytrain, test_size=0.25, stratify=ytrain)\n",
    "\n",
    "\n",
    "k_vs_score=[]\n",
    "dic_feat={}\n",
    "for i in range(3,Xtrain0.shape[1]):\n",
    "    selector = SelectKBest(score_func=f_classif, k = i)\n",
    "    Xtrain1 = selector.fit_transform(Xtrain0 , ytrain0)\n",
    "    Xval1 = selector.transform(Xval)\n",
    "\n",
    "    mdl= RandomForestClassifier(n_estimators=100, n_jobs=-1 , random_state=42)\n",
    "    mdl.fit(Xtrain1,ytrain0)\n",
    "\n",
    "\n",
    "    p = mdl.predict(Xval1)\n",
    "\n",
    "    score = precision_score(yval, p)\n",
    "    print( f\"k = {i} Precision = {score}\")\n",
    "    k_vs_score.append(score)\n",
    "    dic_feat[i]=Xtrain0.iloc[:,selector.get_support()].columns"
   ]
  },
  {
   "cell_type": "code",
   "execution_count": 378,
   "id": "a7c8787d",
   "metadata": {},
   "outputs": [
    {
     "data": {
      "text/plain": [
       "<AxesSubplot:>"
      ]
     },
     "execution_count": 378,
     "metadata": {},
     "output_type": "execute_result"
    },
    {
     "data": {
      "image/png": "[encoded data removed]",
      "text/plain": [
       "<Figure size 720x504 with 1 Axes>"
      ]
     },
     "metadata": {
      "needs_background": "light"
     },
     "output_type": "display_data"
    }
   ],
   "source": [
    "pd.Series(k_vs_score,index = range(3,Xtrain0.shape[1])).plot(figsize=(10,7))"
   ]
  },
  {
   "cell_type": "raw",
   "id": "47ebabec",
   "metadata": {},
   "source": [
    "# This method called select \"K best\" shows us the model metrics (in this case, precision) for each k features.\n",
    "The previous chart shows us that  model performed better using 6 features, thus, we are going to use it.\n",
    "It's a good practice to choose features in steady regions, otherwise it can be risky choosing a set of variables with noise."
   ]
  },
  {
   "cell_type": "code",
   "execution_count": 379,
   "id": "e3bf0dbc",
   "metadata": {},
   "outputs": [
    {
     "data": {
      "text/plain": [
       "Index(['age', 'region_code', 'previously_insured', 'vehicle_age',\n",
       "       'vehicle_damage', 'policy_sales_channel'],\n",
       "      dtype='object')"
      ]
     },
     "execution_count": 379,
     "metadata": {},
     "output_type": "execute_result"
    }
   ],
   "source": [
    "selectorfinal=SelectKBest(score_func=f_classif, k = 6).fit(Xtrain0,ytrain0)\n",
    "mask0=selectorfinal.get_support()\n",
    "Xtrain0.columns[mask0]"
   ]
  },
  {
   "cell_type": "code",
   "execution_count": 380,
   "metadata": {},
   "outputs": [
    {
     "data": {
      "image/png": "[encoded data removed]",
      "text/plain": [
       "<Figure size 1440x360 with 1 Axes>"
      ]
     },
     "metadata": {
      "needs_background": "light"
     },
     "output_type": "display_data"
    }
   ],
   "source": [
    "pd.Series(selector.scores_, index=Xtrain.columns).sort_values(ascending=True).plot.barh()\n",
    "plt.gcf().set_size_inches(20,5)"
   ]
  },
  {
   "cell_type": "markdown",
   "id": "6e41783f",
   "metadata": {},
   "source": [
    "# 7.0 MACHINE LEARNING MODELLING"
   ]
  },
  {
   "cell_type": "raw",
   "id": "90ce4ee2",
   "metadata": {},
   "source": [
    "In this section we are going to test multiple models before select one to improve through hyperparameter tuning."
   ]
  },
  {
   "cell_type": "code",
   "execution_count": 381,
   "id": "7ae9075a",
   "metadata": {},
   "outputs": [],
   "source": [
    "Xtrain1=Xtrain.iloc[:,selectorfinal.get_support()]\n",
    "Xval1=Xval.iloc[:,selectorfinal.get_support()]\n",
    "#Xtest1=test.iloc[:,selectorfinal.get_support()]\n"
   ]
  },
  {
   "cell_type": "markdown",
   "id": "bcaf89e6",
   "metadata": {},
   "source": [
    "## 7.1 Average Model"
   ]
  },
  {
   "cell_type": "code",
   "execution_count": 383,
   "id": "aaa2006c",
   "metadata": {},
   "outputs": [
    {
     "data": {
      "text/html": [
       "<div>\n",
       "<style scoped>\n",
       "    .dataframe tbody tr th:only-of-type {\n",
       "        vertical-align: middle;\n",
       "    }\n",
       "\n",
       "    .dataframe tbody tr th {\n",
       "        vertical-align: top;\n",
       "    }\n",
       "\n",
       "    .dataframe thead th {\n",
       "        text-align: right;\n",
       "    }\n",
       "</style>\n",
       "<table border=\"1\" class=\"dataframe\">\n",
       "  <thead>\n",
       "    <tr style=\"text-align: right;\">\n",
       "      <th></th>\n",
       "      <th>precision</th>\n",
       "      <th>recall</th>\n",
       "      <th>fscore</th>\n",
       "      <th>model</th>\n",
       "    </tr>\n",
       "  </thead>\n",
       "  <tbody>\n",
       "    <tr>\n",
       "      <th>metrics</th>\n",
       "      <td>0.12293</td>\n",
       "      <td>0.50307</td>\n",
       "      <td>0.19758</td>\n",
       "      <td>average</td>\n",
       "    </tr>\n",
       "  </tbody>\n",
       "</table>\n",
       "</div>"
      ],
      "text/plain": [
       "         precision  recall  fscore    model\n",
       "metrics    0.12293 0.50307 0.19758  average"
      ]
     },
     "execution_count": 383,
     "metadata": {},
     "output_type": "execute_result"
    }
   ],
   "source": [
    "pd.set_option('display.float_format', lambda x: '%.5f' % x)\n",
    "\n",
    "\n",
    "# prediction\n",
    "pred_random = np.random.choice([0,1],yval.shape[0])\n",
    "\n",
    "# performance\n",
    "results_bs = precision_recall_fscore_support(yval,pred_random)\n",
    "results_bs=pd.DataFrame(results_bs,index=['precision','recall','fscore','support'])\n",
    "results_bs=results_bs.iloc[:-1,-1].to_frame('metrics').T\n",
    "results_bs['model']='average'\n",
    "results_bs"
   ]
  },
  {
   "cell_type": "markdown",
   "id": "ccb5738a",
   "metadata": {},
   "source": [
    "## 7.2 RandomForestClassifier"
   ]
  },
  {
   "cell_type": "code",
   "execution_count": 82,
   "id": "6e2ce65a",
   "metadata": {},
   "outputs": [
    {
     "data": {
      "text/html": [
       "<div>\n",
       "<style scoped>\n",
       "    .dataframe tbody tr th:only-of-type {\n",
       "        vertical-align: middle;\n",
       "    }\n",
       "\n",
       "    .dataframe tbody tr th {\n",
       "        vertical-align: top;\n",
       "    }\n",
       "\n",
       "    .dataframe thead th {\n",
       "        text-align: right;\n",
       "    }\n",
       "</style>\n",
       "<table border=\"1\" class=\"dataframe\">\n",
       "  <thead>\n",
       "    <tr style=\"text-align: right;\">\n",
       "      <th></th>\n",
       "      <th>precision</th>\n",
       "      <th>recall</th>\n",
       "      <th>fscore</th>\n",
       "      <th>model</th>\n",
       "    </tr>\n",
       "  </thead>\n",
       "  <tbody>\n",
       "    <tr>\n",
       "      <th>metrics</th>\n",
       "      <td>0.33844</td>\n",
       "      <td>0.12107</td>\n",
       "      <td>0.17833</td>\n",
       "      <td>RandomForestClassifier</td>\n",
       "    </tr>\n",
       "  </tbody>\n",
       "</table>\n",
       "</div>"
      ],
      "text/plain": [
       "         precision  recall  fscore                   model\n",
       "metrics    0.33844 0.12107 0.17833  RandomForestClassifier"
      ]
     },
     "execution_count": 82,
     "metadata": {},
     "output_type": "execute_result"
    }
   ],
   "source": [
    "rf=RandomForestClassifier(n_estimators=100,random_state=42)\n",
    "  \n",
    "# Create StratifiedKFold object.\n",
    "skf = StratifiedKFold(n_splits=3, shuffle=True, random_state=1)\n",
    "precisions = []\n",
    "recalls = []\n",
    "fscores = []\n",
    "\n",
    "for train_index, test_index in skf.split(Xtrain1, ytrain):\n",
    "    x_train_fold, x_test_fold = Xtrain1.loc[train_index,:], Xtrain1.loc[test_index,:]\n",
    "    y_train_fold, y_test_fold = ytrain.loc[train_index], ytrain.loc[test_index]\n",
    "    rf.fit(x_train_fold, y_train_fold)\n",
    "    pred=rf.predict(x_test_fold)\n",
    "    precisions.append(precision_score(y_test_fold,pred))\n",
    "    recalls.append(recall_score(y_test_fold,pred))\n",
    "    fscores.append(f1_score(y_test_fold,pred))\n",
    "\n",
    "dic_results_rf={\"precision\":precisions,\"recall\":recalls,\"fscore\":fscores}\n",
    "results_rf=pd.DataFrame.from_dict(dic_results_rf)\n",
    "results_rf=results_rf.mean().to_frame(name='metrics').T\n",
    "results_rf['model']=rf.__class__.__name__\n",
    "results_rf"
   ]
  },
  {
   "cell_type": "markdown",
   "id": "6f59982f",
   "metadata": {},
   "source": [
    "## 7.3 XGBoost Classifier"
   ]
  },
  {
   "cell_type": "code",
   "execution_count": 83,
   "id": "d9306976",
   "metadata": {},
   "outputs": [
    {
     "data": {
      "text/html": [
       "<div>\n",
       "<style scoped>\n",
       "    .dataframe tbody tr th:only-of-type {\n",
       "        vertical-align: middle;\n",
       "    }\n",
       "\n",
       "    .dataframe tbody tr th {\n",
       "        vertical-align: top;\n",
       "    }\n",
       "\n",
       "    .dataframe thead th {\n",
       "        text-align: right;\n",
       "    }\n",
       "</style>\n",
       "<table border=\"1\" class=\"dataframe\">\n",
       "  <thead>\n",
       "    <tr style=\"text-align: right;\">\n",
       "      <th></th>\n",
       "      <th>precision</th>\n",
       "      <th>recall</th>\n",
       "      <th>fscore</th>\n",
       "      <th>model</th>\n",
       "    </tr>\n",
       "  </thead>\n",
       "  <tbody>\n",
       "    <tr>\n",
       "      <th>metrics</th>\n",
       "      <td>0.44262</td>\n",
       "      <td>0.01991</td>\n",
       "      <td>0.03808</td>\n",
       "      <td>XGBClassifier</td>\n",
       "    </tr>\n",
       "  </tbody>\n",
       "</table>\n",
       "</div>"
      ],
      "text/plain": [
       "         precision  recall  fscore          model\n",
       "metrics    0.44262 0.01991 0.03808  XGBClassifier"
      ]
     },
     "execution_count": 83,
     "metadata": {},
     "output_type": "execute_result"
    }
   ],
   "source": [
    "xb = XGBClassifier(n_estimators=100,random_state=42)\n",
    "  \n",
    "# Create StratifiedKFold object.\n",
    "skf = StratifiedKFold(n_splits=3, shuffle=True, random_state=1)\n",
    "precisions = []\n",
    "recalls = []\n",
    "fscores = []\n",
    "\n",
    "for train_index, test_index in skf.split(Xtrain1, ytrain):\n",
    "    x_train_fold, x_test_fold = Xtrain1.loc[train_index,:], Xtrain1.loc[test_index,:]\n",
    "    y_train_fold, y_test_fold = ytrain.loc[train_index], ytrain.loc[test_index]\n",
    "    xb.fit(x_train_fold, y_train_fold)\n",
    "    pred=xb.predict(x_test_fold)\n",
    "    precisions.append(precision_score(y_test_fold,pred))\n",
    "    recalls.append(recall_score(y_test_fold,pred))\n",
    "    fscores.append(f1_score(y_test_fold,pred))\n",
    "\n",
    "\n",
    "dic_results_xb={\"precision\":precisions,\"recall\":recalls,\"fscore\":fscores}\n",
    "results_xb=pd.DataFrame.from_dict(dic_results_xb)\n",
    "results_xb=results_xb.mean().to_frame(name='metrics').T\n",
    "results_xb['model']=xb.__class__.__name__\n",
    "results_xb"
   ]
  },
  {
   "cell_type": "markdown",
   "id": "927748b8",
   "metadata": {},
   "source": [
    "## 7.4 LGBMClassifier"
   ]
  },
  {
   "cell_type": "code",
   "execution_count": 85,
   "id": "718e0547",
   "metadata": {},
   "outputs": [
    {
     "data": {
      "text/html": [
       "<div>\n",
       "<style scoped>\n",
       "    .dataframe tbody tr th:only-of-type {\n",
       "        vertical-align: middle;\n",
       "    }\n",
       "\n",
       "    .dataframe tbody tr th {\n",
       "        vertical-align: top;\n",
       "    }\n",
       "\n",
       "    .dataframe thead th {\n",
       "        text-align: right;\n",
       "    }\n",
       "</style>\n",
       "<table border=\"1\" class=\"dataframe\">\n",
       "  <thead>\n",
       "    <tr style=\"text-align: right;\">\n",
       "      <th></th>\n",
       "      <th>precision</th>\n",
       "      <th>recall</th>\n",
       "      <th>fscore</th>\n",
       "      <th>model</th>\n",
       "    </tr>\n",
       "  </thead>\n",
       "  <tbody>\n",
       "    <tr>\n",
       "      <th>metrics</th>\n",
       "      <td>0.53941</td>\n",
       "      <td>0.00403</td>\n",
       "      <td>0.00800</td>\n",
       "      <td>LGBMClassifier</td>\n",
       "    </tr>\n",
       "  </tbody>\n",
       "</table>\n",
       "</div>"
      ],
      "text/plain": [
       "         precision  recall  fscore           model\n",
       "metrics    0.53941 0.00403 0.00800  LGBMClassifier"
      ]
     },
     "execution_count": 85,
     "metadata": {},
     "output_type": "execute_result"
    }
   ],
   "source": [
    "lgbm = LGBMClassifier(n_estimators=100,random_state=42)\n",
    "  \n",
    "# Create StratifiedKFold object.\n",
    "skf = StratifiedKFold(n_splits=3, shuffle=True, random_state=1)\n",
    "precisions = []\n",
    "recalls = []\n",
    "fscores = []\n",
    "\n",
    "for train_index, test_index in skf.split(Xtrain1, ytrain):\n",
    "    x_train_fold, x_test_fold = Xtrain1.loc[train_index,:], Xtrain1.loc[test_index,:]\n",
    "    y_train_fold, y_test_fold = ytrain.loc[train_index], ytrain.loc[test_index]\n",
    "    lgbm.fit(x_train_fold, y_train_fold)\n",
    "    pred=lgbm.predict(x_test_fold)\n",
    "    precisions.append(precision_score(y_test_fold,pred))\n",
    "    recalls.append(recall_score(y_test_fold,pred))\n",
    "    fscores.append(f1_score(y_test_fold,pred))\n",
    "\n",
    "dic_results_lgbm={\"precision\":precisions,\"recall\":recalls,\"fscore\":fscores}\n",
    "results_lgbm=pd.DataFrame.from_dict(dic_results_lgbm)\n",
    "results_lgbm=results_lgbm.mean().to_frame(name='metrics').T\n",
    "results_lgbm['model']=lgbm.__class__.__name__\n",
    "results_lgbm"
   ]
  },
  {
   "cell_type": "markdown",
   "id": "cbc89675",
   "metadata": {},
   "source": [
    "## 7.5 Compare Models Performance"
   ]
  },
  {
   "cell_type": "code",
   "execution_count": 86,
   "id": "031dbf04",
   "metadata": {},
   "outputs": [
    {
     "data": {
      "text/html": [
       "<div>\n",
       "<style scoped>\n",
       "    .dataframe tbody tr th:only-of-type {\n",
       "        vertical-align: middle;\n",
       "    }\n",
       "\n",
       "    .dataframe tbody tr th {\n",
       "        vertical-align: top;\n",
       "    }\n",
       "\n",
       "    .dataframe thead th {\n",
       "        text-align: right;\n",
       "    }\n",
       "</style>\n",
       "<table border=\"1\" class=\"dataframe\">\n",
       "  <thead>\n",
       "    <tr style=\"text-align: right;\">\n",
       "      <th></th>\n",
       "      <th>precision</th>\n",
       "      <th>recall</th>\n",
       "      <th>fscore</th>\n",
       "      <th>model</th>\n",
       "    </tr>\n",
       "  </thead>\n",
       "  <tbody>\n",
       "    <tr>\n",
       "      <th>metrics</th>\n",
       "      <td>0.12284</td>\n",
       "      <td>0.50050</td>\n",
       "      <td>0.19727</td>\n",
       "      <td>average</td>\n",
       "    </tr>\n",
       "    <tr>\n",
       "      <th>metrics</th>\n",
       "      <td>0.33844</td>\n",
       "      <td>0.12107</td>\n",
       "      <td>0.17833</td>\n",
       "      <td>RandomForestClassifier</td>\n",
       "    </tr>\n",
       "    <tr>\n",
       "      <th>metrics</th>\n",
       "      <td>0.44262</td>\n",
       "      <td>0.01991</td>\n",
       "      <td>0.03808</td>\n",
       "      <td>XGBClassifier</td>\n",
       "    </tr>\n",
       "    <tr>\n",
       "      <th>metrics</th>\n",
       "      <td>0.53941</td>\n",
       "      <td>0.00403</td>\n",
       "      <td>0.00800</td>\n",
       "      <td>LGBMClassifier</td>\n",
       "    </tr>\n",
       "  </tbody>\n",
       "</table>\n",
       "</div>"
      ],
      "text/plain": [
       "         precision  recall  fscore                   model\n",
       "metrics    0.12284 0.50050 0.19727                 average\n",
       "metrics    0.33844 0.12107 0.17833  RandomForestClassifier\n",
       "metrics    0.44262 0.01991 0.03808           XGBClassifier\n",
       "metrics    0.53941 0.00403 0.00800          LGBMClassifier"
      ]
     },
     "execution_count": 86,
     "metadata": {},
     "output_type": "execute_result"
    }
   ],
   "source": [
    "modelling_result=pd.concat([results_bs,results_rf,results_xb,results_lgbm])\n",
    "modelling_result"
   ]
  },
  {
   "cell_type": "raw",
   "id": "e6e7fa68",
   "metadata": {},
   "source": [
    "Although LGBMClassifier performed better we are going to choose RandomForestClassifier as the \"winner\" model, because it has a better precision than baseline \n",
    "and a much better recall compared to other models."
   ]
  },
  {
   "cell_type": "markdown",
   "id": "d3730b0d",
   "metadata": {},
   "source": [
    "# 8.0 HYPERPARAMETER TUNING"
   ]
  },
  {
   "cell_type": "code",
   "execution_count": 100,
   "id": "5b989f5c",
   "metadata": {},
   "outputs": [
    {
     "name": "stdout",
     "output_type": "stream",
     "text": [
      "Fitting 4 folds for each of 10 candidates, totalling 40 fits\n",
      "{'mean_fit_time': array([31.54310006, 14.95373625, 32.20557839, 19.25112081, 12.29410648,\n",
      "       35.92870498, 24.98955292,  9.43646324, 12.00532871,  9.32097542]), 'std_fit_time': array([1.01279334, 0.32831431, 0.39720429, 0.71427524, 0.89708326,\n",
      "       1.19435294, 1.89589572, 1.33643305, 1.28718374, 1.00507179]), 'mean_score_time': array([2.22792023, 0.84530157, 2.24545753, 1.3124404 , 0.75599116,\n",
      "       2.04264337, 1.70002842, 0.4827922 , 0.69508225, 0.45513439]), 'std_score_time': array([0.41508978, 0.12767729, 0.41635499, 0.24779942, 0.15585712,\n",
      "       0.41070178, 0.41863176, 0.04420705, 0.18777737, 0.07708153]), 'param_n_estimators': masked_array(data=[100, 50, 100, 50, 50, 100, 100, 25, 50, 25],\n",
      "             mask=[False, False, False, False, False, False, False, False,\n",
      "                   False, False],\n",
      "       fill_value='?',\n",
      "            dtype=object), 'param_min_samples_split': masked_array(data=[5, 2, 5, 2, 5, 2, 2, 10, 2, 2],\n",
      "             mask=[False, False, False, False, False, False, False, False,\n",
      "                   False, False],\n",
      "       fill_value='?',\n",
      "            dtype=object), 'param_min_samples_leaf': masked_array(data=[12, 5, 12, 5, 8, 5, 12, 12, 12, 8],\n",
      "             mask=[False, False, False, False, False, False, False, False,\n",
      "                   False, False],\n",
      "       fill_value='?',\n",
      "            dtype=object), 'param_max_depth': masked_array(data=[15, 10, 10, 15, 5, 10, 5, 10, 5, 15],\n",
      "             mask=[False, False, False, False, False, False, False, False,\n",
      "                   False, False],\n",
      "       fill_value='?',\n",
      "            dtype=object), 'param_criterion': masked_array(data=['entropy', 'entropy', 'entropy', 'gini', 'entropy',\n",
      "                   'gini', 'entropy', 'gini', 'entropy', 'entropy'],\n",
      "             mask=[False, False, False, False, False, False, False, False,\n",
      "                   False, False],\n",
      "       fill_value='?',\n",
      "            dtype=object), 'param_bootstrap': masked_array(data=[True, True, True, True, True, True, True, True, True,\n",
      "                   True],\n",
      "             mask=[False, False, False, False, False, False, False, False,\n",
      "                   False, False],\n",
      "       fill_value='?',\n",
      "            dtype=object), 'params': [{'n_estimators': 100, 'min_samples_split': 5, 'min_samples_leaf': 12, 'max_depth': 15, 'criterion': 'entropy', 'bootstrap': True}, {'n_estimators': 50, 'min_samples_split': 2, 'min_samples_leaf': 5, 'max_depth': 10, 'criterion': 'entropy', 'bootstrap': True}, {'n_estimators': 100, 'min_samples_split': 5, 'min_samples_leaf': 12, 'max_depth': 10, 'criterion': 'entropy', 'bootstrap': True}, {'n_estimators': 50, 'min_samples_split': 2, 'min_samples_leaf': 5, 'max_depth': 15, 'criterion': 'gini', 'bootstrap': True}, {'n_estimators': 50, 'min_samples_split': 5, 'min_samples_leaf': 8, 'max_depth': 5, 'criterion': 'entropy', 'bootstrap': True}, {'n_estimators': 100, 'min_samples_split': 2, 'min_samples_leaf': 5, 'max_depth': 10, 'criterion': 'gini', 'bootstrap': True}, {'n_estimators': 100, 'min_samples_split': 2, 'min_samples_leaf': 12, 'max_depth': 5, 'criterion': 'entropy', 'bootstrap': True}, {'n_estimators': 25, 'min_samples_split': 10, 'min_samples_leaf': 12, 'max_depth': 10, 'criterion': 'gini', 'bootstrap': True}, {'n_estimators': 50, 'min_samples_split': 2, 'min_samples_leaf': 12, 'max_depth': 5, 'criterion': 'entropy', 'bootstrap': True}, {'n_estimators': 25, 'min_samples_split': 2, 'min_samples_leaf': 8, 'max_depth': 15, 'criterion': 'entropy', 'bootstrap': True}], 'split0_test_score': array([0.58677686, 0.64285714, 0.5       , 0.5245098 , 0.        ,\n",
      "       0.625     , 0.        , 0.58333333, 0.        , 0.54887218]), 'split1_test_score': array([0.48739496, 0.52173913, 0.6875    , 0.45502646, 0.        ,\n",
      "       0.55      , 0.        , 0.65      , 0.        , 0.48538012]), 'split2_test_score': array([0.5037594 , 1.        , 0.71428571, 0.47802198, 0.        ,\n",
      "       0.69565217, 0.        , 0.6875    , 0.        , 0.4965035 ]), 'split3_test_score': array([0.50746269, 0.75      , 0.75      , 0.53125   , 0.        ,\n",
      "       0.75      , 0.        , 0.8       , 0.        , 0.52525253]), 'mean_test_score': array([0.52134848, 0.72864907, 0.66294643, 0.49720206, 0.        ,\n",
      "       0.65516304, 0.        , 0.68020833, 0.        , 0.51400208]), 'std_test_score': array([0.03852241, 0.17625207, 0.09665462, 0.03182622, 0.        ,\n",
      "       0.07517063, 0.        , 0.078582  , 0.        , 0.02483905]), 'rank_test_score': array([5, 1, 3, 7, 8, 4, 8, 2, 8, 6])} 0.7286490683229814\n"
     ]
    }
   ],
   "source": [
    "params = {\n",
    "    'n_estimators': [25, 50, 100],\n",
    "    'max_depth' : [5,10,15],\n",
    "    'criterion' :['gini', 'entropy'],\n",
    "    \"min_samples_split\": [2,5,10],\n",
    "    \"bootstrap\":[True],\n",
    "    \"min_samples_leaf\":[5,8,12]\n",
    "}\n",
    "rf_tuning=RandomForestClassifier(random_state=42)\n",
    "\n",
    "rf_random = RandomizedSearchCV(estimator = rf_tuning, param_distributions = params,scoring='precision', n_iter = 10, cv = 4, verbose=2, random_state=42, n_jobs = -1)\n",
    "# Fit the random search model\n",
    "\n",
    "rf_random.fit(Xtrain1, ytrain)\n",
    "\n",
    "print(rf_random.cv_results_, rf_random.best_score_)"
   ]
  },
  {
   "cell_type": "markdown",
   "id": "27800582",
   "metadata": {},
   "source": [
    "## 8.1 Final Model"
   ]
  },
  {
   "cell_type": "code",
   "execution_count": 104,
   "id": "dcd04a3f",
   "metadata": {},
   "outputs": [
    {
     "data": {
      "text/plain": [
       "{'n_estimators': 50,\n",
       " 'min_samples_split': 2,\n",
       " 'min_samples_leaf': 5,\n",
       " 'max_depth': 10,\n",
       " 'criterion': 'entropy',\n",
       " 'bootstrap': True}"
      ]
     },
     "execution_count": 104,
     "metadata": {},
     "output_type": "execute_result"
    }
   ],
   "source": [
    "param_tuned = rf_random.best_params_\n",
    "param_tuned"
   ]
  },
  {
   "cell_type": "code",
   "execution_count": 107,
   "id": "8f77701a",
   "metadata": {},
   "outputs": [
    {
     "data": {
      "text/plain": [
       "(array([0.87760548, 0.76666667]),\n",
       " array([0.99993022, 0.00164133]),\n",
       " array([0.93478301, 0.00327565]),\n",
       " array([200639,  28026], dtype=int64))"
      ]
     },
     "execution_count": 107,
     "metadata": {},
     "output_type": "execute_result"
    }
   ],
   "source": [
    "# model\n",
    "rf_final = RandomForestClassifier( \n",
    "                                    min_samples_split=param_tuned['min_samples_split'],\n",
    "                                    min_samples_leaf=param_tuned['min_samples_leaf'],\n",
    "                                    n_estimators=param_tuned['n_estimators'], \n",
    "                                    max_depth=param_tuned['max_depth'], \n",
    "                                    criterion=param_tuned['criterion'],\n",
    "                                    random_state=42).fit( Xtrain1, ytrain )\n",
    "\n",
    "# prediction\n",
    "ypredtrain = rf_final.predict(Xtrain1)\n",
    "#ypredtest = rf_final.predict(Xtest)\n",
    "\n",
    "\n",
    "# performance\n",
    "precision_recall_fscore_support(ytrain,ypredtrain)"
   ]
  },
  {
   "cell_type": "code",
   "execution_count": 388,
   "id": "6c7f54e8",
   "metadata": {},
   "outputs": [
    {
     "name": "stderr",
     "output_type": "stream",
     "text": [
      "p:\\Anaconda3\\envs\\insurance_cross\\lib\\site-packages\\sklearn\\base.py:443: UserWarning: X has feature names, but RobustScaler was fitted without feature names\n",
      "  warnings.warn(\n",
      "p:\\Anaconda3\\envs\\insurance_cross\\lib\\site-packages\\sklearn\\base.py:443: UserWarning: X has feature names, but MinMaxScaler was fitted without feature names\n",
      "  warnings.warn(\n",
      "p:\\Anaconda3\\envs\\insurance_cross\\lib\\site-packages\\sklearn\\base.py:443: UserWarning: X has feature names, but StandardScaler was fitted without feature names\n",
      "  warnings.warn(\n"
     ]
    },
    {
     "data": {
      "text/html": [
       "<div>\n",
       "<style scoped>\n",
       "    .dataframe tbody tr th:only-of-type {\n",
       "        vertical-align: middle;\n",
       "    }\n",
       "\n",
       "    .dataframe tbody tr th {\n",
       "        vertical-align: top;\n",
       "    }\n",
       "\n",
       "    .dataframe thead th {\n",
       "        text-align: right;\n",
       "    }\n",
       "</style>\n",
       "<table border=\"1\" class=\"dataframe\">\n",
       "  <thead>\n",
       "    <tr style=\"text-align: right;\">\n",
       "      <th></th>\n",
       "      <th>age</th>\n",
       "      <th>region_code</th>\n",
       "      <th>previously_insured</th>\n",
       "      <th>vehicle_age</th>\n",
       "      <th>vehicle_damage</th>\n",
       "      <th>policy_sales_channel</th>\n",
       "    </tr>\n",
       "  </thead>\n",
       "  <tbody>\n",
       "    <tr>\n",
       "      <th>192149</th>\n",
       "      <td>0.27692</td>\n",
       "      <td>0.57133</td>\n",
       "      <td>0</td>\n",
       "      <td>1.00000</td>\n",
       "      <td>1.00000</td>\n",
       "      <td>0.15124</td>\n",
       "    </tr>\n",
       "    <tr>\n",
       "      <th>189829</th>\n",
       "      <td>0.47692</td>\n",
       "      <td>0.24067</td>\n",
       "      <td>0</td>\n",
       "      <td>1.00000</td>\n",
       "      <td>0.00000</td>\n",
       "      <td>0.23196</td>\n",
       "    </tr>\n",
       "    <tr>\n",
       "      <th>373008</th>\n",
       "      <td>0.24615</td>\n",
       "      <td>1.00000</td>\n",
       "      <td>0</td>\n",
       "      <td>1.00000</td>\n",
       "      <td>1.00000</td>\n",
       "      <td>0.15124</td>\n",
       "    </tr>\n",
       "    <tr>\n",
       "      <th>266804</th>\n",
       "      <td>0.27692</td>\n",
       "      <td>0.12635</td>\n",
       "      <td>0</td>\n",
       "      <td>1.00000</td>\n",
       "      <td>1.00000</td>\n",
       "      <td>-0.84876</td>\n",
       "    </tr>\n",
       "    <tr>\n",
       "      <th>336525</th>\n",
       "      <td>0.47692</td>\n",
       "      <td>0.88360</td>\n",
       "      <td>0</td>\n",
       "      <td>1.00000</td>\n",
       "      <td>1.00000</td>\n",
       "      <td>0.42398</td>\n",
       "    </tr>\n",
       "  </tbody>\n",
       "</table>\n",
       "</div>"
      ],
      "text/plain": [
       "           age  region_code  previously_insured  vehicle_age  vehicle_damage  \\\n",
       "192149 0.27692      0.57133                   0      1.00000         1.00000   \n",
       "189829 0.47692      0.24067                   0      1.00000         0.00000   \n",
       "373008 0.24615      1.00000                   0      1.00000         1.00000   \n",
       "266804 0.27692      0.12635                   0      1.00000         1.00000   \n",
       "336525 0.47692      0.88360                   0      1.00000         1.00000   \n",
       "\n",
       "        policy_sales_channel  \n",
       "192149               0.15124  \n",
       "189829               0.23196  \n",
       "373008               0.15124  \n",
       "266804              -0.84876  \n",
       "336525               0.42398  "
      ]
     },
     "execution_count": 388,
     "metadata": {},
     "output_type": "execute_result"
    }
   ],
   "source": [
    "Xholdout1=holdout.drop('Response',axis=1)\n",
    "Xholdout1=FeatureEngineering().transform(holdout)\n",
    "Xholdout1[['vehicle_age',\"gender\",'vehicle_damage']]=oe.transform(Xholdout1[['vehicle_age','gender','vehicle_damage']])\n",
    "Xholdout1[['policy_sales_channel','region_code']]=bs.transform(Xholdout1[['policy_sales_channel','region_code']],y=Xholdout1['response'])\n",
    "Xholdout1=prep.transform(Xholdout1)\n",
    "Xholdout1=Xholdout1[['age', 'region_code', 'previously_insured', 'vehicle_age','vehicle_damage', 'policy_sales_channel']].fillna(0)\n",
    "Xholdout1.head()"
   ]
  },
  {
   "cell_type": "code",
   "execution_count": 347,
   "id": "8ce8c5ce",
   "metadata": {},
   "outputs": [
    {
     "name": "stderr",
     "output_type": "stream",
     "text": [
      "p:\\Anaconda3\\envs\\insurance_cross\\lib\\site-packages\\sklearn\\metrics\\_classification.py:1327: UndefinedMetricWarning: Recall and F-score are ill-defined and being set to 0.0 in labels with no true samples. Use `zero_division` parameter to control this behavior.\n",
      "  _warn_prf(average, modifier, msg_start, len(result))\n"
     ]
    },
    {
     "data": {
      "text/plain": [
       "(array([1., 0.]),\n",
       " array([0.87743696, 0.        ]),\n",
       " array([0.93471789, 0.        ]),\n",
       " array([152444,      0], dtype=int64))"
      ]
     },
     "execution_count": 347,
     "metadata": {},
     "output_type": "execute_result"
    }
   ],
   "source": [
    "testpred=rf_final.predict(Xholdout1)\n",
    "precision_recall_fscore_support(testpred,holdout['Response'])"
   ]
  },
  {
   "cell_type": "markdown",
   "id": "81a8cfa8",
   "metadata": {},
   "source": [
    "# 9.0 ERROR INTERPRETATION TO BUSINESS"
   ]
  },
  {
   "cell_type": "code",
   "execution_count": null,
   "id": "b1556d12",
   "metadata": {},
   "outputs": [],
   "source": [
    "df9 = test[cols_selected_boruta_full]\n",
    "\n",
    "# rescale\n",
    "df9['sales'] = np.expm1( df9['sales'])\n",
    "df9['predictions']= np.expm1(ypred_xgb_tuned)\n",
    "df9.head(1)"
   ]
  },
  {
   "cell_type": "markdown",
   "id": "ef23da8f",
   "metadata": {},
   "source": [
    "## 9.1 business performance"
   ]
  },
  {
   "cell_type": "raw",
   "id": "cbbae3d7",
   "metadata": {},
   "source": [
    "In this section, the objective is to translate the model performance into business performance, so the business team would be able to aware\n",
    "of the scenarios: Bad performance vs Good Performance."
   ]
  },
  {
   "cell_type": "code",
   "execution_count": null,
   "id": "9b01ad86",
   "metadata": {},
   "outputs": [],
   "source": [
    "# sum of predictions\n",
    "df91 = df9[['store', 'predictions']].groupby( 'store' ).sum().reset_index()\n",
    "\n",
    "# MAE and MAPE\n",
    "df9_aux1 = df9[['store', 'sales', 'predictions']].groupby( 'store' ).apply( lambda x: mean_absolute_error( x['sales'], x['predictions'] ) ).reset_index().rename( columns={0:'MAE'})\n",
    "df9_aux2 = df9[['store', 'sales', 'predictions']].groupby( 'store' ).apply( lambda x: mean_absolute_percentage_error( x['sales'], x['predictions'] ) ).reset_index().rename( columns={0:'MAPE'})\n",
    "\n",
    "# Merge\n",
    "df9_aux3 = pd.merge( df9_aux1, df9_aux2, how='inner', on='store' )\n",
    "df92 = pd.merge( df91, df9_aux3, how='inner', on='store' )\n",
    "\n",
    "# Scenarios\n",
    "df92['worst_scenario'] = df92['predictions'] - df92['MAE']\n",
    "df92['best_scenario'] = df92['predictions'] + df92['MAE']\n",
    "\n",
    "# order columns\n",
    "df92 = df92[['store', 'predictions', 'worst_scenario', 'best_scenario', 'MAE', 'MAPE']]"
   ]
  },
  {
   "cell_type": "raw",
   "id": "195fdf46",
   "metadata": {},
   "source": [
    "Below we show  the Absolute Percentage Error (prediction/slaes) per store. Note that mostly stores errors are below 20%"
   ]
  },
  {
   "cell_type": "code",
   "execution_count": null,
   "id": "552b83e4",
   "metadata": {},
   "outputs": [],
   "source": [
    "sns.scatterplot(x='store',y='MAPE',data=df92)"
   ]
  },
  {
   "cell_type": "raw",
   "id": "67194395",
   "metadata": {},
   "source": [
    "Below we show the worst and best sales scenario for the first five stores with biggest MAPE.\n",
    "With the table below It could be made a dashboard to monitor every store performance."
   ]
  },
  {
   "cell_type": "code",
   "execution_count": null,
   "id": "72c82a2f",
   "metadata": {},
   "outputs": [],
   "source": [
    "df92.sort_values( 'MAPE', ascending=False ).head()"
   ]
  },
  {
   "cell_type": "markdown",
   "id": "b5d96f37",
   "metadata": {},
   "source": [
    "## 9.2 total performance"
   ]
  },
  {
   "cell_type": "raw",
   "id": "0fa900d7",
   "metadata": {},
   "source": [
    "Below we show the total sales scenarios."
   ]
  },
  {
   "cell_type": "code",
   "execution_count": null,
   "id": "6d0734d1",
   "metadata": {},
   "outputs": [],
   "source": [
    "df93=df92[['predictions','worst_scenario','best_scenario']].apply(lambda x: np.sum(x),axis=0).reset_index().rename(columns={'index':'Scenario',0:'Values'})\n",
    "df93['Values']=df93['Values'].map( 'R${:,.2f}'.format )\n",
    "df93"
   ]
  },
  {
   "cell_type": "markdown",
   "id": "56dd945a",
   "metadata": {},
   "source": [
    "## 9.3 machine learning performance"
   ]
  },
  {
   "cell_type": "code",
   "execution_count": null,
   "id": "c6dcd3a4",
   "metadata": {},
   "outputs": [],
   "source": [
    "df9['error'] = df9['sales'] - df9['predictions']\n",
    "df9['error_rate'] = df9['predictions'] / df9['sales']"
   ]
  },
  {
   "cell_type": "code",
   "execution_count": null,
   "id": "655dadaf",
   "metadata": {},
   "outputs": [],
   "source": [
    "plt.subplot( 2, 2, 1 )\n",
    "sns.lineplot( x='date', y='sales', data=df9, label='SALES' )\n",
    "sns.lineplot( x='date', y='predictions', data=df9, label='PREDICTIONS' )\n",
    "\n",
    "plt.subplot( 2, 2, 2 )\n",
    "sns.lineplot( x='date', y='error_rate', data=df9 )\n",
    "plt.axhline( 1, linestyle='--')\n",
    "\n",
    "plt.subplot( 2, 2, 3 )\n",
    "sns.distplot( df9['error'] )\n",
    "\n",
    "plt.subplot( 2, 2, 4 )\n",
    "sns.scatterplot( df9['predictions'], df9['error'] )"
   ]
  },
  {
   "cell_type": "markdown",
   "id": "e12deca1",
   "metadata": {},
   "source": [
    "# CLASS PREDICTOR"
   ]
  },
  {
   "cell_type": "code",
   "execution_count": null,
   "id": "20e1d700",
   "metadata": {},
   "outputs": [],
   "source": [
    "import pickle\n",
    "import pandas as pd\n",
    "import numpy as np\n",
    "import math, datetime\n",
    "\n",
    "class pipe_insurance( object ):\n",
    "    def __init__( self ):\n",
    "        self.home_path='P:\\Python\\GitHub\\insurance_cross'\n",
    "        self.oe = pickle.load( open( self.home_path + r'\\parameters\\oe_vehicle_age_gender_vehicle_damage.pkl', 'rb') )\n",
    "        self.mss = pickle.load( open( self.home_path + r'\\parameters\\age_mms_scaler.pkl', 'rb') )\n",
    "        self.ss = pickle.load( open( self.home_path + r'\\parameters\\annual_premium_robust_scaler.pkl', 'rb') )\n",
    "        self.rs = pickle.load( open( self.home_path + r'\\parameters\\vintage_ss_scaler.pkl', 'rb') )\n",
    "\n",
    "        \n",
    "    def data_cleaning( self, df1 ): \n",
    "        \n",
    "        df1.columns=df1.columns.str.lower()\n",
    "\n",
    "        for i in ['region_code','policy_sales_channel']:\n",
    "                df1[i]=df1[i].astype('object')\n",
    "\n",
    "        df1['vehicle_age']=df1['vehicle_age'].map({'> 2 Years':'2. 2_more_years','1-2 Year':'1. 1_2_years', '< 1 Year': '0. 1_less_years'})\n",
    "\n",
    "        return df1\n",
    "\n",
    "    def feature_engineering( self, df2):\n",
    "        return df2\n",
    "\n",
    "        \n",
    "    def data_preparation( self, df3 ):\n",
    "        df3[['vehicle_age','gender','vehicle_damage']]=oe.transform(df3[['vehicle_age','gender','vehicle_damage']])\n",
    "        df3['age'] = mms.transform( df3[['age']].values )\n",
    "        df3['vintage'] = ss.transform( df3[['vintage']].values )\n",
    "        df3['annual_premium'] = rs.transform( df3[['annual_premium']].values )\n",
    "\n",
    "        return df3\n",
    "    \n",
    "    def get_prediction( self, model, original_data, test_data ):\n",
    "        # prediction\n",
    "        pred = model.predict( test_data )\n",
    "        \n",
    "        # join pred into the original data\n",
    "        original_data['prediction'] = pred\n",
    "        \n",
    "        return original_data.to_json( orient='records', date_format='iso' )\n",
    "\n",
    "\n",
    "\n"
   ]
  }
 ],
 "metadata": {
  "kernelspec": {
   "display_name": "Python 3.10.4 ('insurance_cross')",
   "language": "python",
   "name": "python3"
  },
  "language_info": {
   "codemirror_mode": {
    "name": "ipython",
    "version": 3
   },
   "file_extension": ".py",
   "mimetype": "text/x-python",
   "name": "python",
   "nbconvert_exporter": "python",
   "pygments_lexer": "ipython3",
   "version": "3.10.4"
  },
  "toc-autonumbering": false,
  "toc-showmarkdowntxt": false,
  "vscode": {
   "interpreter": {
    "hash": "935f6592781ac68ac4cdaa14c88ed977bfd604cb818c708877f690a67bde04e5"
   }
  }
 },
 "nbformat": 4,
 "nbformat_minor": 5
}
